{
  "nbformat": 4,
  "nbformat_minor": 0,
  "metadata": {
    "accelerator": "GPU",
    "colab": {
      "name": "Donkey Car Training using Google Colab",
      "provenance": [],
      "collapsed_sections": [],
      "include_colab_link": true
    },
    "kernelspec": {
      "display_name": "Python 3",
      "language": "python",
      "name": "python3"
    },
    "language_info": {
      "codemirror_mode": {
        "name": "ipython",
        "version": 3
      },
      "file_extension": ".py",
      "mimetype": "text/x-python",
      "name": "python",
      "nbconvert_exporter": "python",
      "pygments_lexer": "ipython3",
      "version": "3.7.3"
    }
  },
  "cells": [
    {
      "cell_type": "markdown",
      "metadata": {
        "id": "view-in-github",
        "colab_type": "text"
      },
      "source": [
        "<a href=\"https://colab.research.google.com/github/robocarstore/donkey-car-training-on-google-colab/blob/master/Donkey_Car_Training_using_Google_Colab.ipynb\" target=\"_parent\"><img src=\"https://colab.research.google.com/assets/colab-badge.svg\" alt=\"Open In Colab\"/></a>"
      ]
    },
    {
      "cell_type": "markdown",
      "metadata": {
        "id": "BlmQIFSLZDdc"
      },
      "source": [
        "# Donkey Car Training using Google Colab\n",
        "\n",
        "Train your donkey car model using accelerated GPU for FREE on Google Colab"
      ]
    },
    {
      "cell_type": "markdown",
      "metadata": {
        "id": "arsH-DhLcihq"
      },
      "source": [
        "## Check GPU allocation\n",
        "If \"Found GPU at: / device: GPU: 0\" is displayed, the GPU is ready to use."
      ]
    },
    {
      "cell_type": "code",
      "metadata": {
        "id": "uQgEhuoTcg0N",
        "colab": {
          "base_uri": "https://localhost:8080/"
        },
        "outputId": "0c244eaf-90ad-4437-9436-a8f2085bc7d7"
      },
      "source": [
        "import tensorflow\n",
        "print(tensorflow.__version__)"
      ],
      "execution_count": 1,
      "outputs": [
        {
          "output_type": "stream",
          "name": "stdout",
          "text": [
            "2.9.2\n"
          ]
        }
      ]
    },
    {
      "cell_type": "markdown",
      "metadata": {
        "id": "Ba2oPDIrsDFg"
      },
      "source": [
        "## Git Clone the donkey repository"
      ]
    },
    {
      "cell_type": "code",
      "metadata": {
        "id": "oOxd9PFUyNxI",
        "colab": {
          "base_uri": "https://localhost:8080/"
        },
        "outputId": "599b7371-562d-48f4-d6f3-80ae6bcb3032"
      },
      "source": [
        "!git clone https://github.com/robocarstore/donkeycar.git \n",
        "%cd /content/donkeycar\n",
        "\n",
        "!git checkout robocarstore_v43"
      ],
      "execution_count": 2,
      "outputs": [
        {
          "output_type": "stream",
          "name": "stdout",
          "text": [
            "Cloning into 'donkeycar'...\n",
            "remote: Enumerating objects: 15076, done.\u001b[K\n",
            "remote: Counting objects: 100% (18/18), done.\u001b[K\n",
            "remote: Compressing objects: 100% (18/18), done.\u001b[K\n",
            "remote: Total 15076 (delta 4), reused 8 (delta 0), pack-reused 15058\u001b[K\n",
            "Receiving objects: 100% (15076/15076), 99.56 MiB | 34.91 MiB/s, done.\n",
            "Resolving deltas: 100% (9669/9669), done.\n",
            "/content/donkeycar\n",
            "Branch 'robocarstore_v43' set up to track remote branch 'robocarstore_v43' from 'origin'.\n",
            "Switched to a new branch 'robocarstore_v43'\n"
          ]
        }
      ]
    },
    {
      "cell_type": "markdown",
      "metadata": {
        "id": "9TkkcF-gsAnx"
      },
      "source": [
        "## Install donkey car"
      ]
    },
    {
      "cell_type": "code",
      "metadata": {
        "id": "jz_PZgrByPDh",
        "colab": {
          "base_uri": "https://localhost:8080/"
        },
        "outputId": "582f2e8f-a89e-4c8f-fceb-8339c0b501e4"
      },
      "source": [
        "!pip3 install -e .[pc]"
      ],
      "execution_count": 3,
      "outputs": [
        {
          "output_type": "stream",
          "name": "stdout",
          "text": [
            "Looking in indexes: https://pypi.org/simple, https://us-python.pkg.dev/colab-wheels/public/simple/\n",
            "Obtaining file:///content/donkeycar\n",
            "Requirement already satisfied: numpy in /usr/local/lib/python3.7/dist-packages (from donkeycar==4.3.22) (1.21.6)\n",
            "Requirement already satisfied: pillow in /usr/local/lib/python3.7/dist-packages (from donkeycar==4.3.22) (7.1.2)\n",
            "Collecting docopt\n",
            "  Downloading docopt-0.6.2.tar.gz (25 kB)\n",
            "Requirement already satisfied: tornado in /usr/local/lib/python3.7/dist-packages (from donkeycar==4.3.22) (5.1.1)\n",
            "Requirement already satisfied: requests in /usr/local/lib/python3.7/dist-packages (from donkeycar==4.3.22) (2.23.0)\n",
            "Requirement already satisfied: h5py in /usr/local/lib/python3.7/dist-packages (from donkeycar==4.3.22) (3.1.0)\n",
            "Requirement already satisfied: PrettyTable in /usr/local/lib/python3.7/dist-packages (from donkeycar==4.3.22) (3.4.1)\n",
            "Collecting paho-mqtt\n",
            "  Downloading paho-mqtt-1.6.1.tar.gz (99 kB)\n",
            "\u001b[K     |████████████████████████████████| 99 kB 4.6 MB/s \n",
            "\u001b[?25hCollecting simple_pid\n",
            "  Downloading simple_pid-1.0.1-py2.py3-none-any.whl (8.1 kB)\n",
            "Collecting progress\n",
            "  Downloading progress-1.6.tar.gz (7.8 kB)\n",
            "Requirement already satisfied: typing_extensions in /usr/local/lib/python3.7/dist-packages (from donkeycar==4.3.22) (4.1.1)\n",
            "Collecting pyfiglet\n",
            "  Downloading pyfiglet-0.8.post1-py2.py3-none-any.whl (865 kB)\n",
            "\u001b[K     |████████████████████████████████| 865 kB 33.6 MB/s \n",
            "\u001b[?25hRequirement already satisfied: psutil in /usr/local/lib/python3.7/dist-packages (from donkeycar==4.3.22) (5.4.8)\n",
            "Collecting pynmea2\n",
            "  Downloading pynmea2-1.18.0-py3-none-any.whl (29 kB)\n",
            "Collecting pyserial\n",
            "  Downloading pyserial-3.5-py2.py3-none-any.whl (90 kB)\n",
            "\u001b[K     |████████████████████████████████| 90 kB 8.8 MB/s \n",
            "\u001b[?25hCollecting utm\n",
            "  Downloading utm-0.7.0.tar.gz (8.7 kB)\n",
            "Requirement already satisfied: matplotlib in /usr/local/lib/python3.7/dist-packages (from donkeycar==4.3.22) (3.2.2)\n",
            "Collecting kivy\n",
            "  Downloading Kivy-2.1.0-cp37-cp37m-manylinux_2_17_x86_64.manylinux2014_x86_64.whl (29.5 MB)\n",
            "\u001b[K     |████████████████████████████████| 29.5 MB 1.4 MB/s \n",
            "\u001b[?25hRequirement already satisfied: pandas in /usr/local/lib/python3.7/dist-packages (from donkeycar==4.3.22) (1.3.5)\n",
            "Requirement already satisfied: pyyaml in /usr/local/lib/python3.7/dist-packages (from donkeycar==4.3.22) (6.0)\n",
            "Requirement already satisfied: plotly in /usr/local/lib/python3.7/dist-packages (from donkeycar==4.3.22) (5.5.0)\n",
            "Requirement already satisfied: imgaug in /usr/local/lib/python3.7/dist-packages (from donkeycar==4.3.22) (0.4.0)\n",
            "Requirement already satisfied: cached-property in /usr/local/lib/python3.7/dist-packages (from h5py->donkeycar==4.3.22) (1.5.2)\n",
            "Requirement already satisfied: scipy in /usr/local/lib/python3.7/dist-packages (from imgaug->donkeycar==4.3.22) (1.7.3)\n",
            "Requirement already satisfied: scikit-image>=0.14.2 in /usr/local/lib/python3.7/dist-packages (from imgaug->donkeycar==4.3.22) (0.18.3)\n",
            "Requirement already satisfied: opencv-python in /usr/local/lib/python3.7/dist-packages (from imgaug->donkeycar==4.3.22) (4.6.0.66)\n",
            "Requirement already satisfied: Shapely in /usr/local/lib/python3.7/dist-packages (from imgaug->donkeycar==4.3.22) (1.8.4)\n",
            "Requirement already satisfied: imageio in /usr/local/lib/python3.7/dist-packages (from imgaug->donkeycar==4.3.22) (2.9.0)\n",
            "Requirement already satisfied: six in /usr/local/lib/python3.7/dist-packages (from imgaug->donkeycar==4.3.22) (1.15.0)\n",
            "Requirement already satisfied: networkx>=2.0 in /usr/local/lib/python3.7/dist-packages (from scikit-image>=0.14.2->imgaug->donkeycar==4.3.22) (2.6.3)\n",
            "Requirement already satisfied: PyWavelets>=1.1.1 in /usr/local/lib/python3.7/dist-packages (from scikit-image>=0.14.2->imgaug->donkeycar==4.3.22) (1.3.0)\n",
            "Requirement already satisfied: tifffile>=2019.7.26 in /usr/local/lib/python3.7/dist-packages (from scikit-image>=0.14.2->imgaug->donkeycar==4.3.22) (2021.11.2)\n",
            "Requirement already satisfied: kiwisolver>=1.0.1 in /usr/local/lib/python3.7/dist-packages (from matplotlib->donkeycar==4.3.22) (1.4.4)\n",
            "Requirement already satisfied: python-dateutil>=2.1 in /usr/local/lib/python3.7/dist-packages (from matplotlib->donkeycar==4.3.22) (2.8.2)\n",
            "Requirement already satisfied: pyparsing!=2.0.4,!=2.1.2,!=2.1.6,>=2.0.1 in /usr/local/lib/python3.7/dist-packages (from matplotlib->donkeycar==4.3.22) (3.0.9)\n",
            "Requirement already satisfied: cycler>=0.10 in /usr/local/lib/python3.7/dist-packages (from matplotlib->donkeycar==4.3.22) (0.11.0)\n",
            "Requirement already satisfied: docutils in /usr/local/lib/python3.7/dist-packages (from kivy->donkeycar==4.3.22) (0.17.1)\n",
            "Collecting Kivy-Garden>=0.1.4\n",
            "  Downloading Kivy_Garden-0.1.5-py3-none-any.whl (4.6 kB)\n",
            "Requirement already satisfied: pygments in /usr/local/lib/python3.7/dist-packages (from kivy->donkeycar==4.3.22) (2.6.1)\n",
            "Requirement already satisfied: pytz>=2017.3 in /usr/local/lib/python3.7/dist-packages (from pandas->donkeycar==4.3.22) (2022.4)\n",
            "Requirement already satisfied: tenacity>=6.2.0 in /usr/local/lib/python3.7/dist-packages (from plotly->donkeycar==4.3.22) (8.1.0)\n",
            "Requirement already satisfied: wcwidth in /usr/local/lib/python3.7/dist-packages (from PrettyTable->donkeycar==4.3.22) (0.2.5)\n",
            "Requirement already satisfied: importlib-metadata in /usr/local/lib/python3.7/dist-packages (from PrettyTable->donkeycar==4.3.22) (5.0.0)\n",
            "Requirement already satisfied: zipp>=0.5 in /usr/local/lib/python3.7/dist-packages (from importlib-metadata->PrettyTable->donkeycar==4.3.22) (3.9.0)\n",
            "Requirement already satisfied: chardet<4,>=3.0.2 in /usr/local/lib/python3.7/dist-packages (from requests->donkeycar==4.3.22) (3.0.4)\n",
            "Requirement already satisfied: urllib3!=1.25.0,!=1.25.1,<1.26,>=1.21.1 in /usr/local/lib/python3.7/dist-packages (from requests->donkeycar==4.3.22) (1.24.3)\n",
            "Requirement already satisfied: idna<3,>=2.5 in /usr/local/lib/python3.7/dist-packages (from requests->donkeycar==4.3.22) (2.10)\n",
            "Requirement already satisfied: certifi>=2017.4.17 in /usr/local/lib/python3.7/dist-packages (from requests->donkeycar==4.3.22) (2022.9.24)\n",
            "Building wheels for collected packages: docopt, paho-mqtt, progress, utm\n",
            "  Building wheel for docopt (setup.py) ... \u001b[?25l\u001b[?25hdone\n",
            "  Created wheel for docopt: filename=docopt-0.6.2-py2.py3-none-any.whl size=13723 sha256=1ebfba41714d1fb5ac99aca8271712164aa31f0cb59b9feb91cc35bce2faab36\n",
            "  Stored in directory: /root/.cache/pip/wheels/72/b0/3f/1d95f96ff986c7dfffe46ce2be4062f38ebd04b506c77c81b9\n",
            "  Building wheel for paho-mqtt (setup.py) ... \u001b[?25l\u001b[?25hdone\n",
            "  Created wheel for paho-mqtt: filename=paho_mqtt-1.6.1-py3-none-any.whl size=62133 sha256=81bf229a884a1c5646cab8afc92864dab854d1fdb17b9b2b59d76321eb2f84cb\n",
            "  Stored in directory: /root/.cache/pip/wheels/d0/bf/ac/2b3f43f8c6fcd0f4ba5395397458c521eb0b52d33b574a5a40\n",
            "  Building wheel for progress (setup.py) ... \u001b[?25l\u001b[?25hdone\n",
            "  Created wheel for progress: filename=progress-1.6-py3-none-any.whl size=9632 sha256=4519be103ecb1a40347eb19ec56261609f8567503ed021532b0e03d7174fbabb\n",
            "  Stored in directory: /root/.cache/pip/wheels/8e/d7/61/498d8e27dc11e9805b01eb3539e2ee344436fc226daeb5fe87\n",
            "  Building wheel for utm (setup.py) ... \u001b[?25l\u001b[?25hdone\n",
            "  Created wheel for utm: filename=utm-0.7.0-py3-none-any.whl size=6108 sha256=a31d4276716d9875b0c9f5e2b7b0f682f4bfac04d1ad8a0ba4b51922e31fa375\n",
            "  Stored in directory: /root/.cache/pip/wheels/a5/b0/12/7ee4fdb0f9fbb4157100bd02390436ed5d58ebfd3c6d6a0886\n",
            "Successfully built docopt paho-mqtt progress utm\n",
            "Installing collected packages: utm, simple-pid, pyserial, pynmea2, pyfiglet, progress, paho-mqtt, Kivy-Garden, docopt, kivy, donkeycar\n",
            "  Running setup.py develop for donkeycar\n",
            "Successfully installed Kivy-Garden-0.1.5 docopt-0.6.2 donkeycar-4.3.22 kivy-2.1.0 paho-mqtt-1.6.1 progress-1.6 pyfiglet-0.8.post1 pynmea2-1.18.0 pyserial-3.5 simple-pid-1.0.1 utm-0.7.0\n"
          ]
        }
      ]
    },
    {
      "cell_type": "markdown",
      "metadata": {
        "id": "syCctLq2r4Wk"
      },
      "source": [
        "## Create Project"
      ]
    },
    {
      "cell_type": "code",
      "metadata": {
        "id": "1xjJBSITyXy2",
        "colab": {
          "base_uri": "https://localhost:8080/"
        },
        "outputId": "8032fd38-0ef0-41a2-cc88-49c79084b194"
      },
      "source": [
        "!donkey createcar --path /content/mycar"
      ],
      "execution_count": 4,
      "outputs": [
        {
          "output_type": "stream",
          "name": "stdout",
          "text": [
            "________             ______                   _________              \n",
            "___  __ \\_______________  /___________  __    __  ____/_____ ________\n",
            "__  / / /  __ \\_  __ \\_  //_/  _ \\_  / / /    _  /    _  __ `/_  ___/\n",
            "_  /_/ // /_/ /  / / /  ,<  /  __/  /_/ /     / /___  / /_/ /_  /    \n",
            "/_____/ \\____//_/ /_//_/|_| \\___/_\\__, /      \\____/  \\__,_/ /_/     \n",
            "                                 /____/                              \n",
            "\n",
            "using donkey v4.3.22 ...\n",
            "Creating car folder: /content/mycar\n",
            "making dir  /content/mycar\n",
            "Creating data & model folders.\n",
            "making dir  /content/mycar/models\n",
            "making dir  /content/mycar/data\n",
            "making dir  /content/mycar/logs\n",
            "Copying car application template: complete\n",
            "Copying car config defaults. Adjust these before starting your car.\n",
            "Copying train script. Adjust these before starting your car.\n",
            "Copying calibrate script. Adjust these before starting your car.\n",
            "Copying my car config overrides\n",
            "Donkey setup complete.\n"
          ]
        }
      ]
    },
    {
      "cell_type": "markdown",
      "metadata": {
        "id": "SCf6uTHnO4Lh"
      },
      "source": [
        "## Prepare Data\n",
        "### Copy the following code and run on pi\n",
        "\n",
        "\n",
        "```bash\n",
        "cd ~/mycar/data\n",
        "tar -czf tub_xx_yyyy_mm_dd.tar.gz tub_xx_yyyy_mm_dd\n",
        "\n",
        "```\n",
        "\n",
        "This will create a tub_xx_yyyy_mm_dd.tar.gz file under ~/mycar/data"
      ]
    },
    {
      "cell_type": "markdown",
      "metadata": {
        "id": "dnUy1Z1zro77"
      },
      "source": [
        "## Upload Data\n",
        "\n",
        "\n",
        "### Copy the tub to your local pc\n",
        "\n",
        "Run this on your local pc if you are using linux/mac\n",
        "```\n",
        "sftp pi@raspberry.local\n",
        "cd ~/mycar/data\n",
        "get tub_xx_yyyy_mm_dd.tar.gz\n",
        "```\n",
        "\n",
        "If you are on a windows, download sftp utility like [filezilla](https://filezilla-project.org/) or [putty](https://www.chiark.greenend.org.uk/~sgtatham/putty/latest.html)"
      ]
    },
    {
      "cell_type": "markdown",
      "metadata": {
        "id": "wlwZuLKA56nt"
      },
      "source": [
        "### Define your tub name here"
      ]
    },
    {
      "cell_type": "code",
      "metadata": {
        "id": "0ShFSsaewLCT"
      },
      "source": [
        "tub_name=\"tub_13_22-10-11\""
      ],
      "execution_count": 5,
      "outputs": []
    },
    {
      "cell_type": "markdown",
      "metadata": {
        "id": "W47gmXA0O4Lo"
      },
      "source": [
        "### Upload the tub to Google Drive\n",
        "\n",
        "First upload the tub_x_yyyy_mm_dd.tar.gz to Google Drive. We will then mount Google Drive from colab and copy the data from Drive directly. When you run the cell below, you will need to click the link and generate an authorization code to for colab to access your drive."
      ]
    },
    {
      "cell_type": "code",
      "metadata": {
        "id": "Bgp_wtENw_4n",
        "colab": {
          "base_uri": "https://localhost:8080/"
        },
        "outputId": "289d147e-f6d0-4dc6-9fb4-f994683b8916"
      },
      "source": [
        "from google.colab import drive\n",
        "drive.mount('/content/drive')"
      ],
      "execution_count": 6,
      "outputs": [
        {
          "output_type": "stream",
          "name": "stdout",
          "text": [
            "Mounted at /content/drive\n"
          ]
        }
      ]
    },
    {
      "cell_type": "markdown",
      "metadata": {
        "id": "IfSDpXj9x16v"
      },
      "source": [
        "Suppose you upload the tub_xx_yyyy_mm_dd.tar.gz to Google Drive/mycar/tub_xx_yyyy_mm_dd.tar.gz, this is how you copy it from Google Drive to colab"
      ]
    },
    {
      "cell_type": "code",
      "metadata": {
        "id": "BIzWTrV-xwkJ",
        "colab": {
          "base_uri": "https://localhost:8080/"
        },
        "outputId": "d0f645ff-7395-4001-8b1a-c9a9b524106b"
      },
      "source": [
        "%cd /content/mycar/data\n",
        "!cp /content/drive/My\\ Drive/mycar/{tub_name}.tar.gz ."
      ],
      "execution_count": 7,
      "outputs": [
        {
          "output_type": "stream",
          "name": "stdout",
          "text": [
            "/content/mycar/data\n"
          ]
        }
      ]
    },
    {
      "cell_type": "markdown",
      "metadata": {
        "id": "QtwcEli6yFrw"
      },
      "source": [
        "And untar it to the right place"
      ]
    },
    {
      "cell_type": "code",
      "metadata": {
        "id": "urhFWBkUyGf0"
      },
      "source": [
        "!tar -xzf {tub_name}.tar.gz"
      ],
      "execution_count": 8,
      "outputs": []
    },
    {
      "cell_type": "markdown",
      "metadata": {
        "id": "eyPsgV5KyFkg"
      },
      "source": [
        "Check whether the data is there"
      ]
    },
    {
      "cell_type": "code",
      "metadata": {
        "id": "KsItvBTkzWcH",
        "colab": {
          "base_uri": "https://localhost:8080/"
        },
        "outputId": "71e0567c-44d8-41f8-8e14-cae2b5941f7e"
      },
      "source": [
        "!ls {tub_name}"
      ],
      "execution_count": 9,
      "outputs": [
        {
          "output_type": "stream",
          "name": "stdout",
          "text": [
            "catalog_0.catalog\t    catalog_3.catalog_manifest\n",
            "catalog_0.catalog_manifest  catalog_4.catalog\n",
            "catalog_1.catalog\t    catalog_4.catalog_manifest\n",
            "catalog_1.catalog_manifest  images\n",
            "catalog_2.catalog\t    manifest.json\n",
            "catalog_2.catalog_manifest  meta.json\n",
            "catalog_3.catalog\t    tub_13_22-10-11_hist.png\n"
          ]
        }
      ]
    },
    {
      "cell_type": "markdown",
      "metadata": {
        "id": "T3Ya8qEUAfOv"
      },
      "source": [
        "## Train your model"
      ]
    },
    {
      "cell_type": "code",
      "metadata": {
        "id": "edH3xO_AVWXu",
        "colab": {
          "base_uri": "https://localhost:8080/"
        },
        "outputId": "f0eb89e9-aa54-4ec0-e3e4-8d74b5c38984"
      },
      "source": [
        "%cd /content/mycar\n",
        "\n",
        "!donkey train --tub ./data/{tub_name} --model ./models/mypilot.h5"
      ],
      "execution_count": 17,
      "outputs": [
        {
          "output_type": "stream",
          "name": "stdout",
          "text": [
            "/content/mycar\n",
            "________             ______                   _________              \n",
            "___  __ \\_______________  /___________  __    __  ____/_____ ________\n",
            "__  / / /  __ \\_  __ \\_  //_/  _ \\_  / / /    _  /    _  __ `/_  ___/\n",
            "_  /_/ // /_/ /  / / /  ,<  /  __/  /_/ /     / /___  / /_/ /_  /    \n",
            "/_____/ \\____//_/ /_//_/|_| \\___/_\\__, /      \\____/  \\__,_/ /_/     \n",
            "                                 /____/                              \n",
            "\n",
            "using donkey v4.3.22 ...\n",
            "INFO:donkeycar.config:loading config file: ./config.py\n",
            "INFO:donkeycar.config:loading personal config over-rides from ./myconfig.py\n",
            "INFO:numexpr.utils:NumExpr defaulting to 2 threads.\n",
            "WARNING:donkeycar.pipeline.database:No model database found at /content/mycar/models/database.json\n",
            "INFO:donkeycar.utils:get_model_by_type: model type is: linear\n",
            "2022-10-18 05:12:47.041135: W tensorflow/core/common_runtime/gpu/gpu_bfc_allocator.cc:42] Overriding orig_value setting because the TF_FORCE_GPU_ALLOW_GROWTH environment variable is set. Original config value was 0.\n",
            "INFO:donkeycar.parts.keras:Created KerasLinear with interpreter: KerasInterpreter\n",
            "Model: \"linear\"\n",
            "__________________________________________________________________________________________________\n",
            " Layer (type)                   Output Shape         Param #     Connected to                     \n",
            "==================================================================================================\n",
            " img_in (InputLayer)            [(None, 120, 160, 3  0           []                               \n",
            "                                )]                                                                \n",
            "                                                                                                  \n",
            " conv2d_1 (Conv2D)              (None, 58, 78, 24)   1824        ['img_in[0][0]']                 \n",
            "                                                                                                  \n",
            " dropout (Dropout)              (None, 58, 78, 24)   0           ['conv2d_1[0][0]']               \n",
            "                                                                                                  \n",
            " conv2d_2 (Conv2D)              (None, 27, 37, 32)   19232       ['dropout[0][0]']                \n",
            "                                                                                                  \n",
            " dropout_1 (Dropout)            (None, 27, 37, 32)   0           ['conv2d_2[0][0]']               \n",
            "                                                                                                  \n",
            " conv2d_3 (Conv2D)              (None, 12, 17, 64)   51264       ['dropout_1[0][0]']              \n",
            "                                                                                                  \n",
            " dropout_2 (Dropout)            (None, 12, 17, 64)   0           ['conv2d_3[0][0]']               \n",
            "                                                                                                  \n",
            " conv2d_4 (Conv2D)              (None, 10, 15, 64)   36928       ['dropout_2[0][0]']              \n",
            "                                                                                                  \n",
            " dropout_3 (Dropout)            (None, 10, 15, 64)   0           ['conv2d_4[0][0]']               \n",
            "                                                                                                  \n",
            " conv2d_5 (Conv2D)              (None, 8, 13, 64)    36928       ['dropout_3[0][0]']              \n",
            "                                                                                                  \n",
            " dropout_4 (Dropout)            (None, 8, 13, 64)    0           ['conv2d_5[0][0]']               \n",
            "                                                                                                  \n",
            " flattened (Flatten)            (None, 6656)         0           ['dropout_4[0][0]']              \n",
            "                                                                                                  \n",
            " dense_1 (Dense)                (None, 100)          665700      ['flattened[0][0]']              \n",
            "                                                                                                  \n",
            " dropout_5 (Dropout)            (None, 100)          0           ['dense_1[0][0]']                \n",
            "                                                                                                  \n",
            " dense_2 (Dense)                (None, 50)           5050        ['dropout_5[0][0]']              \n",
            "                                                                                                  \n",
            " dropout_6 (Dropout)            (None, 50)           0           ['dense_2[0][0]']                \n",
            "                                                                                                  \n",
            " n_outputs0 (Dense)             (None, 1)            51          ['dropout_6[0][0]']              \n",
            "                                                                                                  \n",
            " n_outputs1 (Dense)             (None, 1)            51          ['dropout_6[0][0]']              \n",
            "                                                                                                  \n",
            "==================================================================================================\n",
            "Total params: 817,028\n",
            "Trainable params: 817,028\n",
            "Non-trainable params: 0\n",
            "__________________________________________________________________________________________________\n",
            "None\n",
            "Using catalog /content/mycar/data/tub_13_22-10-11/catalog_4.catalog\n",
            "INFO:donkeycar.pipeline.types:Loading tubs from paths ['./data/tub_13_22-10-11']\n",
            "Records # Training 3325\n",
            "Records # Validation 832\n",
            "Epoch 1/100\n",
            "26/26 [==============================] - ETA: 0s - loss: 0.5439 - n_outputs0_loss: 0.3576 - n_outputs1_loss: 0.1863\n",
            "Epoch 00001: val_loss improved from inf to 0.40059, saving model to /content/mycar/models/mypilot.h5\n",
            "26/26 [==============================] - 15s 232ms/step - loss: 0.5439 - n_outputs0_loss: 0.3576 - n_outputs1_loss: 0.1863 - val_loss: 0.4006 - val_n_outputs0_loss: 0.2704 - val_n_outputs1_loss: 0.1302\n",
            "Epoch 2/100\n",
            "26/26 [==============================] - ETA: 0s - loss: 0.3689 - n_outputs0_loss: 0.2975 - n_outputs1_loss: 0.0714\n",
            "Epoch 00002: val_loss improved from 0.40059 to 0.34359, saving model to /content/mycar/models/mypilot.h5\n",
            "26/26 [==============================] - 4s 153ms/step - loss: 0.3689 - n_outputs0_loss: 0.2975 - n_outputs1_loss: 0.0714 - val_loss: 0.3436 - val_n_outputs0_loss: 0.2627 - val_n_outputs1_loss: 0.0809\n",
            "Epoch 3/100\n",
            "26/26 [==============================] - ETA: 0s - loss: 0.3528 - n_outputs0_loss: 0.2887 - n_outputs1_loss: 0.0641\n",
            "Epoch 00003: val_loss improved from 0.34359 to 0.30803, saving model to /content/mycar/models/mypilot.h5\n",
            "26/26 [==============================] - 4s 156ms/step - loss: 0.3528 - n_outputs0_loss: 0.2887 - n_outputs1_loss: 0.0641 - val_loss: 0.3080 - val_n_outputs0_loss: 0.2544 - val_n_outputs1_loss: 0.0537\n",
            "Epoch 4/100\n",
            "26/26 [==============================] - ETA: 0s - loss: 0.3417 - n_outputs0_loss: 0.2792 - n_outputs1_loss: 0.0625\n",
            "Epoch 00004: val_loss improved from 0.30803 to 0.29845, saving model to /content/mycar/models/mypilot.h5\n",
            "26/26 [==============================] - 4s 141ms/step - loss: 0.3417 - n_outputs0_loss: 0.2792 - n_outputs1_loss: 0.0625 - val_loss: 0.2985 - val_n_outputs0_loss: 0.2291 - val_n_outputs1_loss: 0.0694\n",
            "Epoch 5/100\n",
            "26/26 [==============================] - ETA: 0s - loss: 0.2762 - n_outputs0_loss: 0.2124 - n_outputs1_loss: 0.0638\n",
            "Epoch 00005: val_loss improved from 0.29845 to 0.22397, saving model to /content/mycar/models/mypilot.h5\n",
            "26/26 [==============================] - 4s 145ms/step - loss: 0.2762 - n_outputs0_loss: 0.2124 - n_outputs1_loss: 0.0638 - val_loss: 0.2240 - val_n_outputs0_loss: 0.1376 - val_n_outputs1_loss: 0.0863\n",
            "Epoch 6/100\n",
            "26/26 [==============================] - ETA: 0s - loss: 0.2184 - n_outputs0_loss: 0.1541 - n_outputs1_loss: 0.0643\n",
            "Epoch 00006: val_loss improved from 0.22397 to 0.17912, saving model to /content/mycar/models/mypilot.h5\n",
            "26/26 [==============================] - 4s 142ms/step - loss: 0.2184 - n_outputs0_loss: 0.1541 - n_outputs1_loss: 0.0643 - val_loss: 0.1791 - val_n_outputs0_loss: 0.1196 - val_n_outputs1_loss: 0.0595\n",
            "Epoch 7/100\n",
            "26/26 [==============================] - ETA: 0s - loss: 0.1946 - n_outputs0_loss: 0.1355 - n_outputs1_loss: 0.0591\n",
            "Epoch 00007: val_loss improved from 0.17912 to 0.14883, saving model to /content/mycar/models/mypilot.h5\n",
            "26/26 [==============================] - 4s 138ms/step - loss: 0.1946 - n_outputs0_loss: 0.1355 - n_outputs1_loss: 0.0591 - val_loss: 0.1488 - val_n_outputs0_loss: 0.1033 - val_n_outputs1_loss: 0.0455\n",
            "Epoch 8/100\n",
            "26/26 [==============================] - ETA: 0s - loss: 0.1869 - n_outputs0_loss: 0.1272 - n_outputs1_loss: 0.0597\n",
            "Epoch 00008: val_loss did not improve from 0.14883\n",
            "26/26 [==============================] - 3s 137ms/step - loss: 0.1869 - n_outputs0_loss: 0.1272 - n_outputs1_loss: 0.0597 - val_loss: 0.1508 - val_n_outputs0_loss: 0.1045 - val_n_outputs1_loss: 0.0463\n",
            "Epoch 9/100\n",
            "26/26 [==============================] - ETA: 0s - loss: 0.1782 - n_outputs0_loss: 0.1235 - n_outputs1_loss: 0.0547\n",
            "Epoch 00009: val_loss improved from 0.14883 to 0.14369, saving model to /content/mycar/models/mypilot.h5\n",
            "26/26 [==============================] - 4s 139ms/step - loss: 0.1782 - n_outputs0_loss: 0.1235 - n_outputs1_loss: 0.0547 - val_loss: 0.1437 - val_n_outputs0_loss: 0.0951 - val_n_outputs1_loss: 0.0486\n",
            "Epoch 10/100\n",
            "26/26 [==============================] - ETA: 0s - loss: 0.1654 - n_outputs0_loss: 0.1109 - n_outputs1_loss: 0.0545\n",
            "Epoch 00010: val_loss improved from 0.14369 to 0.13113, saving model to /content/mycar/models/mypilot.h5\n",
            "26/26 [==============================] - 4s 146ms/step - loss: 0.1654 - n_outputs0_loss: 0.1109 - n_outputs1_loss: 0.0545 - val_loss: 0.1311 - val_n_outputs0_loss: 0.0931 - val_n_outputs1_loss: 0.0380\n",
            "Epoch 11/100\n",
            "26/26 [==============================] - ETA: 0s - loss: 0.1569 - n_outputs0_loss: 0.1064 - n_outputs1_loss: 0.0506\n",
            "Epoch 00011: val_loss improved from 0.13113 to 0.12592, saving model to /content/mycar/models/mypilot.h5\n",
            "26/26 [==============================] - 4s 142ms/step - loss: 0.1569 - n_outputs0_loss: 0.1064 - n_outputs1_loss: 0.0506 - val_loss: 0.1259 - val_n_outputs0_loss: 0.0880 - val_n_outputs1_loss: 0.0379\n",
            "Epoch 12/100\n",
            "26/26 [==============================] - ETA: 0s - loss: 0.1471 - n_outputs0_loss: 0.0982 - n_outputs1_loss: 0.0488\n",
            "Epoch 00012: val_loss did not improve from 0.12592\n",
            "26/26 [==============================] - 3s 135ms/step - loss: 0.1471 - n_outputs0_loss: 0.0982 - n_outputs1_loss: 0.0488 - val_loss: 0.1472 - val_n_outputs0_loss: 0.0924 - val_n_outputs1_loss: 0.0548\n",
            "Epoch 13/100\n",
            "26/26 [==============================] - ETA: 0s - loss: 0.1474 - n_outputs0_loss: 0.0975 - n_outputs1_loss: 0.0499\n",
            "Epoch 00013: val_loss improved from 0.12592 to 0.11967, saving model to /content/mycar/models/mypilot.h5\n",
            "26/26 [==============================] - 4s 141ms/step - loss: 0.1474 - n_outputs0_loss: 0.0975 - n_outputs1_loss: 0.0499 - val_loss: 0.1197 - val_n_outputs0_loss: 0.0804 - val_n_outputs1_loss: 0.0392\n",
            "Epoch 14/100\n",
            "26/26 [==============================] - ETA: 0s - loss: 0.1363 - n_outputs0_loss: 0.0898 - n_outputs1_loss: 0.0465\n",
            "Epoch 00014: val_loss improved from 0.11967 to 0.11474, saving model to /content/mycar/models/mypilot.h5\n",
            "26/26 [==============================] - 4s 145ms/step - loss: 0.1363 - n_outputs0_loss: 0.0898 - n_outputs1_loss: 0.0465 - val_loss: 0.1147 - val_n_outputs0_loss: 0.0793 - val_n_outputs1_loss: 0.0355\n",
            "Epoch 15/100\n",
            "26/26 [==============================] - ETA: 0s - loss: 0.1325 - n_outputs0_loss: 0.0865 - n_outputs1_loss: 0.0461\n",
            "Epoch 00015: val_loss improved from 0.11474 to 0.11452, saving model to /content/mycar/models/mypilot.h5\n",
            "26/26 [==============================] - 4s 141ms/step - loss: 0.1325 - n_outputs0_loss: 0.0865 - n_outputs1_loss: 0.0461 - val_loss: 0.1145 - val_n_outputs0_loss: 0.0793 - val_n_outputs1_loss: 0.0352\n",
            "Epoch 16/100\n",
            "26/26 [==============================] - ETA: 0s - loss: 0.1276 - n_outputs0_loss: 0.0839 - n_outputs1_loss: 0.0436\n",
            "Epoch 00016: val_loss did not improve from 0.11452\n",
            "26/26 [==============================] - 3s 134ms/step - loss: 0.1276 - n_outputs0_loss: 0.0839 - n_outputs1_loss: 0.0436 - val_loss: 0.1201 - val_n_outputs0_loss: 0.0807 - val_n_outputs1_loss: 0.0394\n",
            "Epoch 17/100\n",
            "26/26 [==============================] - ETA: 0s - loss: 0.1268 - n_outputs0_loss: 0.0847 - n_outputs1_loss: 0.0420\n",
            "Epoch 00017: val_loss did not improve from 0.11452\n",
            "26/26 [==============================] - 3s 136ms/step - loss: 0.1268 - n_outputs0_loss: 0.0847 - n_outputs1_loss: 0.0420 - val_loss: 0.1247 - val_n_outputs0_loss: 0.0803 - val_n_outputs1_loss: 0.0444\n",
            "Epoch 18/100\n",
            "26/26 [==============================] - ETA: 0s - loss: 0.1175 - n_outputs0_loss: 0.0796 - n_outputs1_loss: 0.0380\n",
            "Epoch 00018: val_loss improved from 0.11452 to 0.10285, saving model to /content/mycar/models/mypilot.h5\n",
            "26/26 [==============================] - 4s 147ms/step - loss: 0.1175 - n_outputs0_loss: 0.0796 - n_outputs1_loss: 0.0380 - val_loss: 0.1028 - val_n_outputs0_loss: 0.0740 - val_n_outputs1_loss: 0.0289\n",
            "Epoch 19/100\n",
            "26/26 [==============================] - ETA: 0s - loss: 0.1197 - n_outputs0_loss: 0.0805 - n_outputs1_loss: 0.0392\n",
            "Epoch 00019: val_loss did not improve from 0.10285\n",
            "26/26 [==============================] - 3s 133ms/step - loss: 0.1197 - n_outputs0_loss: 0.0805 - n_outputs1_loss: 0.0392 - val_loss: 0.1069 - val_n_outputs0_loss: 0.0779 - val_n_outputs1_loss: 0.0289\n",
            "Epoch 20/100\n",
            "26/26 [==============================] - ETA: 0s - loss: 0.1075 - n_outputs0_loss: 0.0742 - n_outputs1_loss: 0.0333\n",
            "Epoch 00020: val_loss did not improve from 0.10285\n",
            "26/26 [==============================] - 4s 138ms/step - loss: 0.1075 - n_outputs0_loss: 0.0742 - n_outputs1_loss: 0.0333 - val_loss: 0.1131 - val_n_outputs0_loss: 0.0758 - val_n_outputs1_loss: 0.0372\n",
            "Epoch 21/100\n",
            "26/26 [==============================] - ETA: 0s - loss: 0.1042 - n_outputs0_loss: 0.0719 - n_outputs1_loss: 0.0323\n",
            "Epoch 00021: val_loss did not improve from 0.10285\n",
            "26/26 [==============================] - 4s 141ms/step - loss: 0.1042 - n_outputs0_loss: 0.0719 - n_outputs1_loss: 0.0323 - val_loss: 0.1052 - val_n_outputs0_loss: 0.0727 - val_n_outputs1_loss: 0.0325\n",
            "Epoch 22/100\n",
            "26/26 [==============================] - ETA: 0s - loss: 0.1006 - n_outputs0_loss: 0.0692 - n_outputs1_loss: 0.0314\n",
            "Epoch 00022: val_loss improved from 0.10285 to 0.10093, saving model to /content/mycar/models/mypilot.h5\n",
            "26/26 [==============================] - 4s 144ms/step - loss: 0.1006 - n_outputs0_loss: 0.0692 - n_outputs1_loss: 0.0314 - val_loss: 0.1009 - val_n_outputs0_loss: 0.0729 - val_n_outputs1_loss: 0.0280\n",
            "Epoch 23/100\n",
            "26/26 [==============================] - ETA: 0s - loss: 0.1013 - n_outputs0_loss: 0.0707 - n_outputs1_loss: 0.0307\n",
            "Epoch 00023: val_loss improved from 0.10093 to 0.09909, saving model to /content/mycar/models/mypilot.h5\n",
            "26/26 [==============================] - 4s 145ms/step - loss: 0.1013 - n_outputs0_loss: 0.0707 - n_outputs1_loss: 0.0307 - val_loss: 0.0991 - val_n_outputs0_loss: 0.0729 - val_n_outputs1_loss: 0.0262\n",
            "Epoch 24/100\n",
            "26/26 [==============================] - ETA: 0s - loss: 0.0985 - n_outputs0_loss: 0.0679 - n_outputs1_loss: 0.0305\n",
            "Epoch 00024: val_loss improved from 0.09909 to 0.09755, saving model to /content/mycar/models/mypilot.h5\n",
            "26/26 [==============================] - 3s 137ms/step - loss: 0.0985 - n_outputs0_loss: 0.0679 - n_outputs1_loss: 0.0305 - val_loss: 0.0976 - val_n_outputs0_loss: 0.0711 - val_n_outputs1_loss: 0.0264\n",
            "Epoch 25/100\n",
            "26/26 [==============================] - ETA: 0s - loss: 0.0972 - n_outputs0_loss: 0.0675 - n_outputs1_loss: 0.0297\n",
            "Epoch 00025: val_loss did not improve from 0.09755\n",
            "26/26 [==============================] - 3s 130ms/step - loss: 0.0972 - n_outputs0_loss: 0.0675 - n_outputs1_loss: 0.0297 - val_loss: 0.0981 - val_n_outputs0_loss: 0.0716 - val_n_outputs1_loss: 0.0265\n",
            "Epoch 26/100\n",
            "26/26 [==============================] - ETA: 0s - loss: 0.0952 - n_outputs0_loss: 0.0670 - n_outputs1_loss: 0.0282\n",
            "Epoch 00026: val_loss did not improve from 0.09755\n",
            "26/26 [==============================] - 3s 137ms/step - loss: 0.0952 - n_outputs0_loss: 0.0670 - n_outputs1_loss: 0.0282 - val_loss: 0.0984 - val_n_outputs0_loss: 0.0691 - val_n_outputs1_loss: 0.0293\n",
            "Epoch 27/100\n",
            "26/26 [==============================] - ETA: 0s - loss: 0.0909 - n_outputs0_loss: 0.0631 - n_outputs1_loss: 0.0278\n",
            "Epoch 00027: val_loss did not improve from 0.09755\n",
            "26/26 [==============================] - 3s 136ms/step - loss: 0.0909 - n_outputs0_loss: 0.0631 - n_outputs1_loss: 0.0278 - val_loss: 0.1067 - val_n_outputs0_loss: 0.0786 - val_n_outputs1_loss: 0.0281\n",
            "Epoch 28/100\n",
            "26/26 [==============================] - ETA: 0s - loss: 0.0873 - n_outputs0_loss: 0.0591 - n_outputs1_loss: 0.0282\n",
            "Epoch 00028: val_loss improved from 0.09755 to 0.09743, saving model to /content/mycar/models/mypilot.h5\n",
            "26/26 [==============================] - 4s 146ms/step - loss: 0.0873 - n_outputs0_loss: 0.0591 - n_outputs1_loss: 0.0282 - val_loss: 0.0974 - val_n_outputs0_loss: 0.0697 - val_n_outputs1_loss: 0.0278\n",
            "Epoch 29/100\n",
            "26/26 [==============================] - ETA: 0s - loss: 0.0882 - n_outputs0_loss: 0.0595 - n_outputs1_loss: 0.0286\n",
            "Epoch 00029: val_loss did not improve from 0.09743\n",
            "26/26 [==============================] - 3s 135ms/step - loss: 0.0882 - n_outputs0_loss: 0.0595 - n_outputs1_loss: 0.0286 - val_loss: 0.0998 - val_n_outputs0_loss: 0.0735 - val_n_outputs1_loss: 0.0264\n",
            "INFO:donkeycar.parts.interpreter:Convert model /content/mycar/models/mypilot.h5 to TFLite /content/mycar/models/mypilot.tflite\n",
            "WARNING:absl:Found untraced functions such as _jit_compiled_convolution_op, _jit_compiled_convolution_op, _jit_compiled_convolution_op, _jit_compiled_convolution_op, _jit_compiled_convolution_op while saving (showing 5 of 5). These functions will not be directly callable after loading.\n",
            "INFO:tensorflow:Assets written to: /tmp/tmpe76k4d1h/assets\n",
            "2022-10-18 05:14:45.922219: W tensorflow/compiler/mlir/lite/python/tf_tfl_flatbuffer_helpers.cc:362] Ignored output_format.\n",
            "2022-10-18 05:14:45.922282: W tensorflow/compiler/mlir/lite/python/tf_tfl_flatbuffer_helpers.cc:365] Ignored drop_control_dependency.\n",
            "INFO:donkeycar.parts.interpreter:TFLite conversion done.\n",
            "INFO:donkeycar.pipeline.database:Writing database file: /content/mycar/models/database.json\n"
          ]
        }
      ]
    },
    {
      "cell_type": "markdown",
      "metadata": {
        "id": "rXzn1noJz5MQ"
      },
      "source": [
        "Check if the model is generated\n",
        "\n"
      ]
    },
    {
      "cell_type": "code",
      "metadata": {
        "id": "5b9vJV4EzlO8"
      },
      "source": [
        "!ls -alh /content/mycar/models"
      ],
      "execution_count": null,
      "outputs": []
    },
    {
      "cell_type": "code",
      "metadata": {
        "id": "AixQrFy_z3vv"
      },
      "source": [
        "%cd /content/mycar/models\n",
        "\n",
        "import glob\n",
        "file = glob.glob(\"*.png\")\n",
        "  \n",
        "from IPython.display import Image\n",
        "Image(file[0])"
      ],
      "execution_count": null,
      "outputs": []
    },
    {
      "cell_type": "markdown",
      "metadata": {
        "id": "6BEOJYH601O0"
      },
      "source": [
        "## Copy the trained model back to Donkey Car (Pi)\n",
        "\n",
        "Once the training is complete on colab, download the model file under /content/mycar/models/ folder location."
      ]
    },
    {
      "cell_type": "code",
      "metadata": {
        "id": "YtvyJpOdocjb"
      },
      "source": [
        "from google.colab import files\n",
        "\n",
        "files.download('./mypilot.h5')"
      ],
      "execution_count": null,
      "outputs": []
    },
    {
      "cell_type": "markdown",
      "metadata": {
        "id": "i7AIY6yBOCM-"
      },
      "source": [
        "Alternatively, you can copy the model back to Google Drive too"
      ]
    },
    {
      "cell_type": "code",
      "metadata": {
        "id": "7Dim4fCpOBo9"
      },
      "source": [
        "!cp /content/mycar/models/mypilot.h5 /content/drive/My\\ Drive/mycar/models/mypilot.h5"
      ],
      "execution_count": null,
      "outputs": []
    },
    {
      "cell_type": "markdown",
      "metadata": {
        "id": "GpkOVzh86omO"
      },
      "source": [
        "### Copy the file from your PC or Mac to the Raspberry Pi using Filezilla or scp command.\n",
        "\n",
        "```\n",
        "sftp pi@raspberry.local\n",
        "cd mycar/models\n",
        "put mypilot.h5\n",
        "```"
      ]
    },
    {
      "cell_type": "markdown",
      "metadata": {
        "id": "hfERkGy821Xy"
      },
      "source": [
        "## Start Autopilot on Pi\n",
        "\n",
        "\n",
        "```bash\n",
        "cd ~/mycar\n",
        "python manage.py drive --model models/mypilot.h5 --js\n",
        "```\n"
      ]
    },
    {
      "cell_type": "markdown",
      "metadata": {
        "id": "X93SodzAv9hV"
      },
      "source": [
        "## Bonus - Salient Object Visualization"
      ]
    },
    {
      "cell_type": "code",
      "metadata": {
        "id": "4AZvWSeiyqto",
        "colab": {
          "base_uri": "https://localhost:8080/"
        },
        "outputId": "7fe371e4-01b9-414e-f4b9-798cd019cf4f"
      },
      "source": [
        "# !pip install git+https://github.com/autorope/keras-vis.git\n",
        "!pip uninstall keras-vis\n",
        "!pip install git+https://github.com/sctse999/keras-vis\n",
        "  \n",
        "  "
      ],
      "execution_count": 18,
      "outputs": [
        {
          "output_type": "stream",
          "name": "stdout",
          "text": [
            "Found existing installation: keras-vis 0.4.1\n",
            "Uninstalling keras-vis-0.4.1:\n",
            "  Would remove:\n",
            "    /usr/local/lib/python3.7/dist-packages/docs/*\n",
            "    /usr/local/lib/python3.7/dist-packages/keras_vis-0.4.1.dist-info/*\n",
            "    /usr/local/lib/python3.7/dist-packages/vis/*\n",
            "Proceed (y/n)? y\n",
            "  Successfully uninstalled keras-vis-0.4.1\n",
            "Looking in indexes: https://pypi.org/simple, https://us-python.pkg.dev/colab-wheels/public/simple/\n",
            "Collecting git+https://github.com/sctse999/keras-vis\n",
            "  Cloning https://github.com/sctse999/keras-vis to /tmp/pip-req-build-s_noomjb\n",
            "  Running command git clone -q https://github.com/sctse999/keras-vis /tmp/pip-req-build-s_noomjb\n",
            "Requirement already satisfied: six in /usr/local/lib/python3.7/dist-packages (from keras-vis==0.5.0) (1.15.0)\n",
            "Requirement already satisfied: scikit-image in /usr/local/lib/python3.7/dist-packages (from keras-vis==0.5.0) (0.18.3)\n",
            "Requirement already satisfied: matplotlib in /usr/local/lib/python3.7/dist-packages (from keras-vis==0.5.0) (3.2.2)\n",
            "Requirement already satisfied: h5py in /usr/local/lib/python3.7/dist-packages (from keras-vis==0.5.0) (3.1.0)\n",
            "Requirement already satisfied: numpy>=1.14.5 in /usr/local/lib/python3.7/dist-packages (from h5py->keras-vis==0.5.0) (1.21.6)\n",
            "Requirement already satisfied: cached-property in /usr/local/lib/python3.7/dist-packages (from h5py->keras-vis==0.5.0) (1.5.2)\n",
            "Requirement already satisfied: python-dateutil>=2.1 in /usr/local/lib/python3.7/dist-packages (from matplotlib->keras-vis==0.5.0) (2.8.2)\n",
            "Requirement already satisfied: cycler>=0.10 in /usr/local/lib/python3.7/dist-packages (from matplotlib->keras-vis==0.5.0) (0.11.0)\n",
            "Requirement already satisfied: kiwisolver>=1.0.1 in /usr/local/lib/python3.7/dist-packages (from matplotlib->keras-vis==0.5.0) (1.4.4)\n",
            "Requirement already satisfied: pyparsing!=2.0.4,!=2.1.2,!=2.1.6,>=2.0.1 in /usr/local/lib/python3.7/dist-packages (from matplotlib->keras-vis==0.5.0) (3.0.9)\n",
            "Requirement already satisfied: typing-extensions in /usr/local/lib/python3.7/dist-packages (from kiwisolver>=1.0.1->matplotlib->keras-vis==0.5.0) (4.1.1)\n",
            "Requirement already satisfied: scipy>=1.0.1 in /usr/local/lib/python3.7/dist-packages (from scikit-image->keras-vis==0.5.0) (1.7.3)\n",
            "Requirement already satisfied: imageio>=2.3.0 in /usr/local/lib/python3.7/dist-packages (from scikit-image->keras-vis==0.5.0) (2.9.0)\n",
            "Requirement already satisfied: pillow!=7.1.0,!=7.1.1,>=4.3.0 in /usr/local/lib/python3.7/dist-packages (from scikit-image->keras-vis==0.5.0) (7.1.2)\n",
            "Requirement already satisfied: networkx>=2.0 in /usr/local/lib/python3.7/dist-packages (from scikit-image->keras-vis==0.5.0) (2.6.3)\n",
            "Requirement already satisfied: PyWavelets>=1.1.1 in /usr/local/lib/python3.7/dist-packages (from scikit-image->keras-vis==0.5.0) (1.3.0)\n",
            "Requirement already satisfied: tifffile>=2019.7.26 in /usr/local/lib/python3.7/dist-packages (from scikit-image->keras-vis==0.5.0) (2021.11.2)\n",
            "Building wheels for collected packages: keras-vis\n",
            "  Building wheel for keras-vis (setup.py) ... \u001b[?25l\u001b[?25hdone\n",
            "  Created wheel for keras-vis: filename=keras_vis-0.5.0-py2.py3-none-any.whl size=39002 sha256=5c47b22b3a21d8c2d1b14a6051d2c311e1780e3b7a8498aff19da8473e3922cd\n",
            "  Stored in directory: /tmp/pip-ephem-wheel-cache-r3bxbdmi/wheels/7a/b6/3c/2b5abdaedcd9bd808857637cbef303bac47848674bb98200b4\n",
            "Successfully built keras-vis\n",
            "Installing collected packages: keras-vis\n",
            "Successfully installed keras-vis-0.5.0\n"
          ]
        }
      ]
    },
    {
      "cell_type": "code",
      "source": [
        "!pip install imageio-ffmpeg\n"
      ],
      "metadata": {
        "id": "1nGatrwZiTEt",
        "outputId": "41766116-658b-464d-8864-3dbbc3f6152b",
        "colab": {
          "base_uri": "https://localhost:8080/"
        }
      },
      "execution_count": 20,
      "outputs": [
        {
          "output_type": "stream",
          "name": "stdout",
          "text": [
            "Looking in indexes: https://pypi.org/simple, https://us-python.pkg.dev/colab-wheels/public/simple/\n",
            "Collecting imageio-ffmpeg\n",
            "  Downloading imageio_ffmpeg-0.4.7-py3-none-manylinux2010_x86_64.whl (26.9 MB)\n",
            "\u001b[K     |████████████████████████████████| 26.9 MB 1.5 MB/s \n",
            "\u001b[?25hInstalling collected packages: imageio-ffmpeg\n",
            "Successfully installed imageio-ffmpeg-0.4.7\n"
          ]
        }
      ]
    },
    {
      "cell_type": "code",
      "metadata": {
        "id": "kKI37gVrv9Q8",
        "colab": {
          "base_uri": "https://localhost:8080/"
        },
        "outputId": "577f0607-91cd-4a1c-cbff-fd4e1d58588c"
      },
      "source": [
        "%cd /content/mycar\n",
        "!donkey makemovie --tub data/{tub_name} --model models/mypilot.h5 --type linear --salient"
      ],
      "execution_count": 21,
      "outputs": [
        {
          "output_type": "stream",
          "name": "stdout",
          "text": [
            "/content/mycar\n",
            "________             ______                   _________              \n",
            "___  __ \\_______________  /___________  __    __  ____/_____ ________\n",
            "__  / / /  __ \\_  __ \\_  //_/  _ \\_  / / /    _  /    _  __ `/_  ___/\n",
            "_  /_/ // /_/ /  / / /  ,<  /  __/  /_/ /     / /___  / /_/ /_  /    \n",
            "/_____/ \\____//_/ /_//_/|_| \\___/_\\__, /      \\____/  \\__,_/ /_/     \n",
            "                                 /____/                              \n",
            "\n",
            "using donkey v4.3.22 ...\n",
            "Traceback (most recent call last):\n",
            "  File \"/usr/local/bin/donkey\", line 33, in <module>\n",
            "    sys.exit(load_entry_point('donkeycar', 'console_scripts', 'donkey')())\n",
            "  File \"/content/donkeycar/donkeycar/management/base.py\", line 616, in execute_from_command_line\n",
            "    c.run(args[2:])\n",
            "  File \"/content/donkeycar/donkeycar/management/base.py\", line 307, in run\n",
            "    from donkeycar.management.makemovie import MakeMovie\n",
            "  File \"/content/donkeycar/donkeycar/management/makemovie.py\", line 1, in <module>\n",
            "    import moviepy.editor as mpy\n",
            "  File \"/usr/local/lib/python3.7/dist-packages/moviepy/editor.py\", line 26, in <module>\n",
            "    imageio.plugins.ffmpeg.download()\n",
            "  File \"/usr/local/lib/python3.7/dist-packages/imageio/plugins/ffmpeg.py\", line 38, in download\n",
            "    \"imageio.ffmpeg.download() has been deprecated. \"\n",
            "RuntimeError: imageio.ffmpeg.download() has been deprecated. Use 'pip install imageio-ffmpeg' instead.'\n"
          ]
        }
      ]
    },
    {
      "cell_type": "code",
      "metadata": {
        "id": "IcUrgOq_pePV"
      },
      "source": [
        "from google.colab import files\n",
        "\n",
        "%cd /content/mycar\n",
        "!ls -ahl\n",
        "files.download('tub_movie.mp4')"
      ],
      "execution_count": null,
      "outputs": []
    }
  ]
}