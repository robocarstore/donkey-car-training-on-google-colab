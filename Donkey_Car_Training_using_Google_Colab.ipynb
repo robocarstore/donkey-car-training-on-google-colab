{
  "nbformat": 4,
  "nbformat_minor": 0,
  "metadata": {
    "accelerator": "GPU",
    "colab": {
      "name": "Donkey Car Training using Google Colab",
      "provenance": [],
      "include_colab_link": true
    },
    "kernelspec": {
      "display_name": "Python 3",
      "language": "python",
      "name": "python3"
    },
    "language_info": {
      "codemirror_mode": {
        "name": "ipython",
        "version": 3
      },
      "file_extension": ".py",
      "mimetype": "text/x-python",
      "name": "python",
      "nbconvert_exporter": "python",
      "pygments_lexer": "ipython3",
      "version": "3.7.3"
    }
  },
  "cells": [
    {
      "cell_type": "markdown",
      "metadata": {
        "id": "view-in-github",
        "colab_type": "text"
      },
      "source": [
        "<a href=\"https://colab.research.google.com/github/robocarstore/donkey-car-training-on-google-colab/blob/master/Donkey_Car_Training_using_Google_Colab.ipynb\" target=\"_parent\"><img src=\"https://colab.research.google.com/assets/colab-badge.svg\" alt=\"Open In Colab\"/></a>"
      ]
    },
    {
      "cell_type": "markdown",
      "metadata": {
        "id": "BlmQIFSLZDdc"
      },
      "source": [
        "# Donkey Car Training using Google Colab\n",
        "\n",
        "Train your donkey car model using accelerated GPU for FREE on Google Colab"
      ]
    },
    {
      "cell_type": "markdown",
      "metadata": {
        "id": "arsH-DhLcihq"
      },
      "source": [
        "## Check GPU allocation\n",
        "If \"Found GPU at: / device: GPU: 0\" is displayed, the GPU is ready to use."
      ]
    },
    {
      "cell_type": "code",
      "metadata": {
        "id": "uQgEhuoTcg0N",
        "colab": {
          "base_uri": "https://localhost:8080/"
        },
        "outputId": "69958990-6914-4122-b445-6ab40a5af973"
      },
      "source": [
        "import tensorflow\n",
        "print(tensorflow.__version__)"
      ],
      "execution_count": 1,
      "outputs": [
        {
          "output_type": "stream",
          "name": "stdout",
          "text": [
            "2.9.2\n"
          ]
        }
      ]
    },
    {
      "cell_type": "markdown",
      "metadata": {
        "id": "Ba2oPDIrsDFg"
      },
      "source": [
        "## Git Clone the donkey repository"
      ]
    },
    {
      "cell_type": "code",
      "metadata": {
        "id": "oOxd9PFUyNxI",
        "colab": {
          "base_uri": "https://localhost:8080/"
        },
        "outputId": "07dcbb0a-17b0-4d01-8977-3d672acf6483"
      },
      "source": [
        "!git clone https://github.com/robocarstore/donkeycar.git \n",
        "%cd /content/donkeycar\n",
        "\n",
        "!git checkout robocarstore_v43"
      ],
      "execution_count": 2,
      "outputs": [
        {
          "output_type": "stream",
          "name": "stdout",
          "text": [
            "Cloning into 'donkeycar'...\n",
            "remote: Enumerating objects: 15128, done.\u001b[K\n",
            "remote: Counting objects: 100% (19/19), done.\u001b[K\n",
            "remote: Compressing objects: 100% (16/16), done.\u001b[K\n",
            "remote: Total 15128 (delta 4), reused 12 (delta 3), pack-reused 15109\u001b[K\n",
            "Receiving objects: 100% (15128/15128), 99.57 MiB | 17.12 MiB/s, done.\n",
            "Resolving deltas: 100% (9704/9704), done.\n",
            "/content/donkeycar\n",
            "Branch 'robocarstore_v43' set up to track remote branch 'robocarstore_v43' from 'origin'.\n",
            "Switched to a new branch 'robocarstore_v43'\n"
          ]
        }
      ]
    },
    {
      "cell_type": "markdown",
      "metadata": {
        "id": "9TkkcF-gsAnx"
      },
      "source": [
        "## Install donkey car"
      ]
    },
    {
      "cell_type": "code",
      "metadata": {
        "id": "jz_PZgrByPDh",
        "colab": {
          "base_uri": "https://localhost:8080/"
        },
        "outputId": "456eb193-d2fb-43a3-c3eb-cd512248cde3"
      },
      "source": [
        "!pip3 install -e .[pc]"
      ],
      "execution_count": 3,
      "outputs": [
        {
          "output_type": "stream",
          "name": "stdout",
          "text": [
            "Looking in indexes: https://pypi.org/simple, https://us-python.pkg.dev/colab-wheels/public/simple/\n",
            "Obtaining file:///content/donkeycar\n",
            "  Preparing metadata (setup.py) ... \u001b[?25l\u001b[?25hdone\n",
            "Requirement already satisfied: numpy in /usr/local/lib/python3.8/dist-packages (from donkeycar==4.3.22) (1.21.6)\n",
            "Requirement already satisfied: pillow in /usr/local/lib/python3.8/dist-packages (from donkeycar==4.3.22) (7.1.2)\n",
            "Collecting docopt\n",
            "  Downloading docopt-0.6.2.tar.gz (25 kB)\n",
            "  Preparing metadata (setup.py) ... \u001b[?25l\u001b[?25hdone\n",
            "Requirement already satisfied: tornado in /usr/local/lib/python3.8/dist-packages (from donkeycar==4.3.22) (6.0.4)\n",
            "Requirement already satisfied: requests in /usr/local/lib/python3.8/dist-packages (from donkeycar==4.3.22) (2.25.1)\n",
            "Requirement already satisfied: h5py in /usr/local/lib/python3.8/dist-packages (from donkeycar==4.3.22) (3.1.0)\n",
            "Requirement already satisfied: PrettyTable in /usr/local/lib/python3.8/dist-packages (from donkeycar==4.3.22) (3.5.0)\n",
            "Collecting paho-mqtt\n",
            "  Downloading paho-mqtt-1.6.1.tar.gz (99 kB)\n",
            "\u001b[2K     \u001b[90m━━━━━━━━━━━━━━━━━━━━━━━━━━━━━━━━━━━━━━━━\u001b[0m \u001b[32m99.4/99.4 KB\u001b[0m \u001b[31m13.6 MB/s\u001b[0m eta \u001b[36m0:00:00\u001b[0m\n",
            "\u001b[?25h  Preparing metadata (setup.py) ... \u001b[?25l\u001b[?25hdone\n",
            "Collecting simple_pid\n",
            "  Downloading simple_pid-1.0.1-py2.py3-none-any.whl (8.1 kB)\n",
            "Collecting progress\n",
            "  Downloading progress-1.6.tar.gz (7.8 kB)\n",
            "  Preparing metadata (setup.py) ... \u001b[?25l\u001b[?25hdone\n",
            "Requirement already satisfied: typing_extensions in /usr/local/lib/python3.8/dist-packages (from donkeycar==4.3.22) (4.4.0)\n",
            "Collecting pyfiglet\n",
            "  Downloading pyfiglet-0.8.post1-py2.py3-none-any.whl (865 kB)\n",
            "\u001b[2K     \u001b[90m━━━━━━━━━━━━━━━━━━━━━━━━━━━━━━━━━━━━━━\u001b[0m \u001b[32m865.8/865.8 KB\u001b[0m \u001b[31m55.5 MB/s\u001b[0m eta \u001b[36m0:00:00\u001b[0m\n",
            "\u001b[?25hRequirement already satisfied: psutil in /usr/local/lib/python3.8/dist-packages (from donkeycar==4.3.22) (5.4.8)\n",
            "Collecting pynmea2\n",
            "  Downloading pynmea2-1.18.0-py3-none-any.whl (29 kB)\n",
            "Collecting pyserial\n",
            "  Downloading pyserial-3.5-py2.py3-none-any.whl (90 kB)\n",
            "\u001b[2K     \u001b[90m━━━━━━━━━━━━━━━━━━━━━━━━━━━━━━━━━━━━━━━━\u001b[0m \u001b[32m90.6/90.6 KB\u001b[0m \u001b[31m12.6 MB/s\u001b[0m eta \u001b[36m0:00:00\u001b[0m\n",
            "\u001b[?25hCollecting utm\n",
            "  Downloading utm-0.7.0.tar.gz (8.7 kB)\n",
            "  Preparing metadata (setup.py) ... \u001b[?25l\u001b[?25hdone\n",
            "Requirement already satisfied: matplotlib in /usr/local/lib/python3.8/dist-packages (from donkeycar==4.3.22) (3.2.2)\n",
            "Collecting kivy\n",
            "  Downloading Kivy-2.1.0-cp38-cp38-manylinux_2_17_x86_64.manylinux2014_x86_64.whl (31.3 MB)\n",
            "\u001b[2K     \u001b[90m━━━━━━━━━━━━━━━━━━━━━━━━━━━━━━━━━━━━━━━━\u001b[0m \u001b[32m31.3/31.3 MB\u001b[0m \u001b[31m51.2 MB/s\u001b[0m eta \u001b[36m0:00:00\u001b[0m\n",
            "\u001b[?25hCollecting protobuf==3.20.3\n",
            "  Downloading protobuf-3.20.3-cp38-cp38-manylinux_2_5_x86_64.manylinux1_x86_64.whl (1.0 MB)\n",
            "\u001b[2K     \u001b[90m━━━━━━━━━━━━━━━━━━━━━━━━━━━━━━━━━━━━━━━━\u001b[0m \u001b[32m1.0/1.0 MB\u001b[0m \u001b[31m62.7 MB/s\u001b[0m eta \u001b[36m0:00:00\u001b[0m\n",
            "\u001b[?25hRequirement already satisfied: pandas in /usr/local/lib/python3.8/dist-packages (from donkeycar==4.3.22) (1.3.5)\n",
            "Requirement already satisfied: pyyaml in /usr/local/lib/python3.8/dist-packages (from donkeycar==4.3.22) (6.0)\n",
            "Requirement already satisfied: plotly in /usr/local/lib/python3.8/dist-packages (from donkeycar==4.3.22) (5.5.0)\n",
            "Requirement already satisfied: imgaug in /usr/local/lib/python3.8/dist-packages (from donkeycar==4.3.22) (0.4.0)\n",
            "Requirement already satisfied: imageio in /usr/local/lib/python3.8/dist-packages (from imgaug->donkeycar==4.3.22) (2.9.0)\n",
            "Requirement already satisfied: six in /usr/local/lib/python3.8/dist-packages (from imgaug->donkeycar==4.3.22) (1.15.0)\n",
            "Requirement already satisfied: Shapely in /usr/local/lib/python3.8/dist-packages (from imgaug->donkeycar==4.3.22) (2.0.0)\n",
            "Requirement already satisfied: scikit-image>=0.14.2 in /usr/local/lib/python3.8/dist-packages (from imgaug->donkeycar==4.3.22) (0.18.3)\n",
            "Requirement already satisfied: opencv-python in /usr/local/lib/python3.8/dist-packages (from imgaug->donkeycar==4.3.22) (4.6.0.66)\n",
            "Requirement already satisfied: scipy in /usr/local/lib/python3.8/dist-packages (from imgaug->donkeycar==4.3.22) (1.7.3)\n",
            "Requirement already satisfied: pygments in /usr/local/lib/python3.8/dist-packages (from kivy->donkeycar==4.3.22) (2.6.1)\n",
            "Collecting Kivy-Garden>=0.1.4\n",
            "  Downloading Kivy_Garden-0.1.5-py3-none-any.whl (4.6 kB)\n",
            "Requirement already satisfied: docutils in /usr/local/lib/python3.8/dist-packages (from kivy->donkeycar==4.3.22) (0.16)\n",
            "Requirement already satisfied: cycler>=0.10 in /usr/local/lib/python3.8/dist-packages (from matplotlib->donkeycar==4.3.22) (0.11.0)\n",
            "Requirement already satisfied: pyparsing!=2.0.4,!=2.1.2,!=2.1.6,>=2.0.1 in /usr/local/lib/python3.8/dist-packages (from matplotlib->donkeycar==4.3.22) (3.0.9)\n",
            "Requirement already satisfied: kiwisolver>=1.0.1 in /usr/local/lib/python3.8/dist-packages (from matplotlib->donkeycar==4.3.22) (1.4.4)\n",
            "Requirement already satisfied: python-dateutil>=2.1 in /usr/local/lib/python3.8/dist-packages (from matplotlib->donkeycar==4.3.22) (2.8.2)\n",
            "Requirement already satisfied: pytz>=2017.3 in /usr/local/lib/python3.8/dist-packages (from pandas->donkeycar==4.3.22) (2022.7)\n",
            "Requirement already satisfied: tenacity>=6.2.0 in /usr/local/lib/python3.8/dist-packages (from plotly->donkeycar==4.3.22) (8.1.0)\n",
            "Requirement already satisfied: wcwidth in /usr/local/lib/python3.8/dist-packages (from PrettyTable->donkeycar==4.3.22) (0.2.5)\n",
            "Requirement already satisfied: chardet<5,>=3.0.2 in /usr/local/lib/python3.8/dist-packages (from requests->donkeycar==4.3.22) (4.0.0)\n",
            "Requirement already satisfied: idna<3,>=2.5 in /usr/local/lib/python3.8/dist-packages (from requests->donkeycar==4.3.22) (2.10)\n",
            "Requirement already satisfied: urllib3<1.27,>=1.21.1 in /usr/local/lib/python3.8/dist-packages (from requests->donkeycar==4.3.22) (1.24.3)\n",
            "Requirement already satisfied: certifi>=2017.4.17 in /usr/local/lib/python3.8/dist-packages (from requests->donkeycar==4.3.22) (2022.12.7)\n",
            "Requirement already satisfied: networkx>=2.0 in /usr/local/lib/python3.8/dist-packages (from scikit-image>=0.14.2->imgaug->donkeycar==4.3.22) (2.8.8)\n",
            "Requirement already satisfied: tifffile>=2019.7.26 in /usr/local/lib/python3.8/dist-packages (from scikit-image>=0.14.2->imgaug->donkeycar==4.3.22) (2022.10.10)\n",
            "Requirement already satisfied: PyWavelets>=1.1.1 in /usr/local/lib/python3.8/dist-packages (from scikit-image>=0.14.2->imgaug->donkeycar==4.3.22) (1.4.1)\n",
            "Building wheels for collected packages: docopt, paho-mqtt, progress, utm\n",
            "  Building wheel for docopt (setup.py) ... \u001b[?25l\u001b[?25hdone\n",
            "  Created wheel for docopt: filename=docopt-0.6.2-py2.py3-none-any.whl size=13723 sha256=80be361107142c8982c861595941935096f8bc087ef447a771f28e84d18563bb\n",
            "  Stored in directory: /root/.cache/pip/wheels/56/ea/58/ead137b087d9e326852a851351d1debf4ada529b6ac0ec4e8c\n",
            "  Building wheel for paho-mqtt (setup.py) ... \u001b[?25l\u001b[?25hdone\n",
            "  Created wheel for paho-mqtt: filename=paho_mqtt-1.6.1-py3-none-any.whl size=62132 sha256=1429e12ce90cbd4cf96b0e003458650415e0626ff7c461c24ad3be59157bc04d\n",
            "  Stored in directory: /root/.cache/pip/wheels/6a/48/01/c895c027e9b9367ec5470fbf371ee56e795a49ac6a19aa4c9f\n",
            "  Building wheel for progress (setup.py) ... \u001b[?25l\u001b[?25hdone\n",
            "  Created wheel for progress: filename=progress-1.6-py3-none-any.whl size=9630 sha256=045208879bcaf3334e86dfb9677e62999e5d468baa7611014245625e270989b0\n",
            "  Stored in directory: /root/.cache/pip/wheels/bb/01/5a/c916509df9b12c6465864251dbe826def8e31a16fa7da54f08\n",
            "  Building wheel for utm (setup.py) ... \u001b[?25l\u001b[?25hdone\n",
            "  Created wheel for utm: filename=utm-0.7.0-py3-none-any.whl size=6108 sha256=27fab27b6b2e2acc8d2cd9cbcbf2453ffaff9dbb2146c475c9c60f3d8e717c51\n",
            "  Stored in directory: /root/.cache/pip/wheels/65/e2/d8/878a8cc986641056fbfebefc4d8eb64238a7b6d3426e86b447\n",
            "Successfully built docopt paho-mqtt progress utm\n",
            "Installing collected packages: utm, simple_pid, pyserial, pynmea2, pyfiglet, progress, paho-mqtt, docopt, protobuf, Kivy-Garden, donkeycar, kivy\n",
            "  Attempting uninstall: protobuf\n",
            "    Found existing installation: protobuf 3.19.6\n",
            "    Uninstalling protobuf-3.19.6:\n",
            "      Successfully uninstalled protobuf-3.19.6\n",
            "  Running setup.py develop for donkeycar\n",
            "\u001b[31mERROR: pip's dependency resolver does not currently take into account all the packages that are installed. This behaviour is the source of the following dependency conflicts.\n",
            "tensorflow 2.9.2 requires protobuf<3.20,>=3.9.2, but you have protobuf 3.20.3 which is incompatible.\n",
            "tensorboard 2.9.1 requires protobuf<3.20,>=3.9.2, but you have protobuf 3.20.3 which is incompatible.\u001b[0m\u001b[31m\n",
            "\u001b[0mSuccessfully installed Kivy-Garden-0.1.5 docopt-0.6.2 donkeycar-4.3.22 kivy-2.1.0 paho-mqtt-1.6.1 progress-1.6 protobuf-3.20.3 pyfiglet-0.8.post1 pynmea2-1.18.0 pyserial-3.5 simple_pid-1.0.1 utm-0.7.0\n"
          ]
        }
      ]
    },
    {
      "cell_type": "markdown",
      "metadata": {
        "id": "syCctLq2r4Wk"
      },
      "source": [
        "## Create Project"
      ]
    },
    {
      "cell_type": "code",
      "metadata": {
        "id": "1xjJBSITyXy2",
        "colab": {
          "base_uri": "https://localhost:8080/"
        },
        "outputId": "76dfb954-ce19-4ad8-c8a4-7e6f664d7acc"
      },
      "source": [
        "!donkey createcar --path /content/mycar"
      ],
      "execution_count": 4,
      "outputs": [
        {
          "output_type": "stream",
          "name": "stdout",
          "text": [
            "________             ______                   _________              \n",
            "___  __ \\_______________  /___________  __    __  ____/_____ ________\n",
            "__  / / /  __ \\_  __ \\_  //_/  _ \\_  / / /    _  /    _  __ `/_  ___/\n",
            "_  /_/ // /_/ /  / / /  ,<  /  __/  /_/ /     / /___  / /_/ /_  /    \n",
            "/_____/ \\____//_/ /_//_/|_| \\___/_\\__, /      \\____/  \\__,_/ /_/     \n",
            "                                 /____/                              \n",
            "\n",
            "using donkey v4.3.22 ...\n",
            "Creating car folder: /content/mycar\n",
            "making dir  /content/mycar\n",
            "Creating data & model folders.\n",
            "making dir  /content/mycar/models\n",
            "making dir  /content/mycar/data\n",
            "making dir  /content/mycar/logs\n",
            "Copying car application template: complete\n",
            "Copying car config defaults. Adjust these before starting your car.\n",
            "Copying train script. Adjust these before starting your car.\n",
            "Copying calibrate script. Adjust these before starting your car.\n",
            "Copying my car config overrides\n",
            "Donkey setup complete.\n"
          ]
        }
      ]
    },
    {
      "cell_type": "markdown",
      "metadata": {
        "id": "SCf6uTHnO4Lh"
      },
      "source": [
        "## Prepare Data\n",
        "### Copy the following code and run on pi\n",
        "\n",
        "\n",
        "```bash\n",
        "cd ~/mycar/data\n",
        "tar -czf tub_xx_yyyy_mm_dd.tar.gz tub_xx_yyyy_mm_dd\n",
        "\n",
        "```\n",
        "\n",
        "This will create a tub_xx_yyyy_mm_dd.tar.gz file under ~/mycar/data"
      ]
    },
    {
      "cell_type": "markdown",
      "metadata": {
        "id": "dnUy1Z1zro77"
      },
      "source": [
        "## Upload Data\n",
        "\n",
        "\n",
        "### Copy the tub to your local pc\n",
        "\n",
        "Run this on your local pc if you are using linux/mac\n",
        "```\n",
        "sftp pi@raspberry.local\n",
        "cd ~/mycar/data\n",
        "get tub_xx_yyyy_mm_dd.tar.gz\n",
        "```\n",
        "\n",
        "If you are on a windows, download sftp utility like [filezilla](https://filezilla-project.org/) or [putty](https://www.chiark.greenend.org.uk/~sgtatham/putty/latest.html)"
      ]
    },
    {
      "cell_type": "markdown",
      "metadata": {
        "id": "wlwZuLKA56nt"
      },
      "source": [
        "### Define your tub name here"
      ]
    },
    {
      "cell_type": "markdown",
      "metadata": {
        "id": "W47gmXA0O4Lo"
      },
      "source": [
        "### Upload the tub to Google Drive\n",
        "\n",
        "First upload the tub_x_yyyy_mm_dd.tar.gz to Google Drive. We will then mount Google Drive from colab and copy the data from Drive directly. When you run the cell below, you will need to click the link and generate an authorization code to for colab to access your drive."
      ]
    },
    {
      "cell_type": "code",
      "metadata": {
        "id": "Bgp_wtENw_4n",
        "colab": {
          "base_uri": "https://localhost:8080/"
        },
        "outputId": "289d147e-f6d0-4dc6-9fb4-f994683b8916"
      },
      "source": [
        "from google.colab import drive\n",
        "drive.mount('/content/drive')"
      ],
      "execution_count": null,
      "outputs": [
        {
          "output_type": "stream",
          "name": "stdout",
          "text": [
            "Mounted at /content/drive\n"
          ]
        }
      ]
    },
    {
      "cell_type": "code",
      "source": [
        "%cd /content/mycar/data\n",
        "!curl  -O -J \"https://robocarstore-dc-sg.s3.amazonaws.com/tubs/2d22d400-9edf-41c5-8f35-48e30c73f12d/data.tar.gz\"\n",
        "\n",
        "!tar -xzf data.tar.gz\n",
        "\n",
        "tub_name=\"tub_33_23-01-14\""
      ],
      "metadata": {
        "id": "22t7txjxCKld"
      },
      "execution_count": null,
      "outputs": []
    },
    {
      "cell_type": "markdown",
      "metadata": {
        "id": "IfSDpXj9x16v"
      },
      "source": [
        "Suppose you upload the tub_xx_yyyy_mm_dd.tar.gz to Google Drive/mycar/tub_xx_yyyy_mm_dd.tar.gz, this is how you copy it from Google Drive to colab"
      ]
    },
    {
      "cell_type": "code",
      "metadata": {
        "id": "BIzWTrV-xwkJ",
        "colab": {
          "base_uri": "https://localhost:8080/"
        },
        "outputId": "d0f645ff-7395-4001-8b1a-c9a9b524106b"
      },
      "source": [
        "%cd /content/mycar/data\n",
        "!cp /content/drive/My\\ Drive/mycar/{tub_name}.tar.gz ."
      ],
      "execution_count": null,
      "outputs": [
        {
          "output_type": "stream",
          "name": "stdout",
          "text": [
            "/content/mycar/data\n"
          ]
        }
      ]
    },
    {
      "cell_type": "markdown",
      "metadata": {
        "id": "QtwcEli6yFrw"
      },
      "source": [
        "And untar it to the right place"
      ]
    },
    {
      "cell_type": "code",
      "metadata": {
        "id": "urhFWBkUyGf0"
      },
      "source": [
        "!tar -xzf data.tar.gz"
      ],
      "execution_count": 15,
      "outputs": []
    },
    {
      "cell_type": "markdown",
      "metadata": {
        "id": "eyPsgV5KyFkg"
      },
      "source": [
        "Check whether the data is there"
      ]
    },
    {
      "cell_type": "code",
      "source": [
        "!pwd"
      ],
      "metadata": {
        "id": "D4ds2VOTCV5Y",
        "outputId": "49b0cab6-eea7-4c13-f482-a56715e1e136",
        "colab": {
          "base_uri": "https://localhost:8080/"
        }
      },
      "execution_count": 17,
      "outputs": [
        {
          "output_type": "stream",
          "name": "stdout",
          "text": [
            "/content/mycar/data\n"
          ]
        }
      ]
    },
    {
      "cell_type": "code",
      "metadata": {
        "id": "KsItvBTkzWcH",
        "colab": {
          "base_uri": "https://localhost:8080/"
        },
        "outputId": "4f07f4e5-9530-4cb5-de66-2d424f3a179a"
      },
      "source": [
        "!ls {tub_name}"
      ],
      "execution_count": 16,
      "outputs": [
        {
          "output_type": "stream",
          "name": "stdout",
          "text": [
            "catalog_0.catalog\t    catalog_3.catalog\n",
            "catalog_0.catalog_manifest  catalog_3.catalog_manifest\n",
            "catalog_1.catalog\t    images\n",
            "catalog_1.catalog_manifest  manifest.json\n",
            "catalog_2.catalog\t    meta.json\n",
            "catalog_2.catalog_manifest  tub_33_23-01-14_hist.png\n"
          ]
        }
      ]
    },
    {
      "cell_type": "markdown",
      "metadata": {
        "id": "T3Ya8qEUAfOv"
      },
      "source": [
        "## Train your model"
      ]
    },
    {
      "cell_type": "code",
      "metadata": {
        "id": "edH3xO_AVWXu",
        "colab": {
          "base_uri": "https://localhost:8080/"
        },
        "outputId": "34f34c69-338e-462c-a548-b85c49bc649e"
      },
      "source": [
        "%cd /content/mycar\n",
        "\n",
        "!donkey train --tub ./data/{tub_name} --model ./models/mypilot.h5"
      ],
      "execution_count": null,
      "outputs": [
        {
          "output_type": "stream",
          "name": "stdout",
          "text": [
            "/content/mycar\n",
            "________             ______                   _________              \n",
            "___  __ \\_______________  /___________  __    __  ____/_____ ________\n",
            "__  / / /  __ \\_  __ \\_  //_/  _ \\_  / / /    _  /    _  __ `/_  ___/\n",
            "_  /_/ // /_/ /  / / /  ,<  /  __/  /_/ /     / /___  / /_/ /_  /    \n",
            "/_____/ \\____//_/ /_//_/|_| \\___/_\\__, /      \\____/  \\__,_/ /_/     \n",
            "                                 /____/                              \n",
            "\n",
            "using donkey v4.3.22 ...\n",
            "INFO:donkeycar.config:loading config file: ./config.py\n",
            "INFO:donkeycar.config:loading personal config over-rides from ./myconfig.py\n",
            "INFO:numexpr.utils:NumExpr defaulting to 2 threads.\n",
            "WARNING:donkeycar.pipeline.database:No model database found at /content/mycar/models/database.json\n",
            "INFO:donkeycar.utils:get_model_by_type: model type is: linear\n",
            "2023-01-17 04:42:58.186368: W tensorflow/core/common_runtime/gpu/gpu_bfc_allocator.cc:42] Overriding orig_value setting because the TF_FORCE_GPU_ALLOW_GROWTH environment variable is set. Original config value was 0.\n",
            "INFO:donkeycar.parts.keras:Created KerasLinear with interpreter: KerasInterpreter\n",
            "Model: \"linear\"\n",
            "__________________________________________________________________________________________________\n",
            " Layer (type)                   Output Shape         Param #     Connected to                     \n",
            "==================================================================================================\n",
            " img_in (InputLayer)            [(None, 120, 160, 3  0           []                               \n",
            "                                )]                                                                \n",
            "                                                                                                  \n",
            " conv2d_1 (Conv2D)              (None, 58, 78, 24)   1824        ['img_in[0][0]']                 \n",
            "                                                                                                  \n",
            " dropout (Dropout)              (None, 58, 78, 24)   0           ['conv2d_1[0][0]']               \n",
            "                                                                                                  \n",
            " conv2d_2 (Conv2D)              (None, 27, 37, 32)   19232       ['dropout[0][0]']                \n",
            "                                                                                                  \n",
            " dropout_1 (Dropout)            (None, 27, 37, 32)   0           ['conv2d_2[0][0]']               \n",
            "                                                                                                  \n",
            " conv2d_3 (Conv2D)              (None, 12, 17, 64)   51264       ['dropout_1[0][0]']              \n",
            "                                                                                                  \n",
            " dropout_2 (Dropout)            (None, 12, 17, 64)   0           ['conv2d_3[0][0]']               \n",
            "                                                                                                  \n",
            " conv2d_4 (Conv2D)              (None, 10, 15, 64)   36928       ['dropout_2[0][0]']              \n",
            "                                                                                                  \n",
            " dropout_3 (Dropout)            (None, 10, 15, 64)   0           ['conv2d_4[0][0]']               \n",
            "                                                                                                  \n",
            " conv2d_5 (Conv2D)              (None, 8, 13, 64)    36928       ['dropout_3[0][0]']              \n",
            "                                                                                                  \n",
            " dropout_4 (Dropout)            (None, 8, 13, 64)    0           ['conv2d_5[0][0]']               \n",
            "                                                                                                  \n",
            " flattened (Flatten)            (None, 6656)         0           ['dropout_4[0][0]']              \n",
            "                                                                                                  \n",
            " dense_1 (Dense)                (None, 100)          665700      ['flattened[0][0]']              \n",
            "                                                                                                  \n",
            " dropout_5 (Dropout)            (None, 100)          0           ['dense_1[0][0]']                \n",
            "                                                                                                  \n",
            " dense_2 (Dense)                (None, 50)           5050        ['dropout_5[0][0]']              \n",
            "                                                                                                  \n",
            " dropout_6 (Dropout)            (None, 50)           0           ['dense_2[0][0]']                \n",
            "                                                                                                  \n",
            " n_outputs0 (Dense)             (None, 1)            51          ['dropout_6[0][0]']              \n",
            "                                                                                                  \n",
            " n_outputs1 (Dense)             (None, 1)            51          ['dropout_6[0][0]']              \n",
            "                                                                                                  \n",
            "==================================================================================================\n",
            "Total params: 817,028\n",
            "Trainable params: 817,028\n",
            "Non-trainable params: 0\n",
            "__________________________________________________________________________________________________\n",
            "None\n",
            "Using catalog /content/mycar/data/tub_33_23-01-14/catalog_3.catalog\n",
            "INFO:donkeycar.pipeline.types:Loading tubs from paths ['./data/tub_33_23-01-14']\n",
            "Records # Training 3100\n",
            "Records # Validation 776\n",
            "Epoch 1/100\n",
            "25/25 [==============================] - ETA: 0s - loss: 0.8859 - n_outputs0_loss: 0.4520 - n_outputs1_loss: 0.4339\n",
            "Epoch 00001: val_loss improved from inf to 0.43012, saving model to /content/mycar/models/mypilot.h5\n",
            "25/25 [==============================] - 15s 224ms/step - loss: 0.8859 - n_outputs0_loss: 0.4520 - n_outputs1_loss: 0.4339 - val_loss: 0.4301 - val_n_outputs0_loss: 0.3297 - val_n_outputs1_loss: 0.1004\n",
            "Epoch 2/100\n",
            "25/25 [==============================] - ETA: 0s - loss: 0.4047 - n_outputs0_loss: 0.3618 - n_outputs1_loss: 0.0429\n",
            "Epoch 00002: val_loss improved from 0.43012 to 0.36553, saving model to /content/mycar/models/mypilot.h5\n",
            "25/25 [==============================] - 4s 144ms/step - loss: 0.4047 - n_outputs0_loss: 0.3618 - n_outputs1_loss: 0.0429 - val_loss: 0.3655 - val_n_outputs0_loss: 0.3259 - val_n_outputs1_loss: 0.0396\n",
            "Epoch 3/100\n",
            "25/25 [==============================] - ETA: 0s - loss: 0.3795 - n_outputs0_loss: 0.3451 - n_outputs1_loss: 0.0344\n",
            "Epoch 00003: val_loss improved from 0.36553 to 0.35408, saving model to /content/mycar/models/mypilot.h5\n",
            "25/25 [==============================] - 4s 151ms/step - loss: 0.3795 - n_outputs0_loss: 0.3451 - n_outputs1_loss: 0.0344 - val_loss: 0.3541 - val_n_outputs0_loss: 0.3241 - val_n_outputs1_loss: 0.0300\n",
            "Epoch 4/100\n",
            "25/25 [==============================] - ETA: 0s - loss: 0.3732 - n_outputs0_loss: 0.3405 - n_outputs1_loss: 0.0327\n",
            "Epoch 00004: val_loss improved from 0.35408 to 0.33479, saving model to /content/mycar/models/mypilot.h5\n",
            "25/25 [==============================] - 3s 139ms/step - loss: 0.3732 - n_outputs0_loss: 0.3405 - n_outputs1_loss: 0.0327 - val_loss: 0.3348 - val_n_outputs0_loss: 0.3147 - val_n_outputs1_loss: 0.0201\n",
            "Epoch 5/100\n",
            "25/25 [==============================] - ETA: 0s - loss: 0.3490 - n_outputs0_loss: 0.3141 - n_outputs1_loss: 0.0349\n",
            "Epoch 00005: val_loss improved from 0.33479 to 0.29963, saving model to /content/mycar/models/mypilot.h5\n",
            "25/25 [==============================] - 3s 138ms/step - loss: 0.3490 - n_outputs0_loss: 0.3141 - n_outputs1_loss: 0.0349 - val_loss: 0.2996 - val_n_outputs0_loss: 0.2839 - val_n_outputs1_loss: 0.0157\n",
            "Epoch 6/100\n",
            "25/25 [==============================] - ETA: 0s - loss: 0.3099 - n_outputs0_loss: 0.2755 - n_outputs1_loss: 0.0344\n",
            "Epoch 00006: val_loss improved from 0.29963 to 0.23777, saving model to /content/mycar/models/mypilot.h5\n",
            "25/25 [==============================] - 3s 137ms/step - loss: 0.3099 - n_outputs0_loss: 0.2755 - n_outputs1_loss: 0.0344 - val_loss: 0.2378 - val_n_outputs0_loss: 0.2199 - val_n_outputs1_loss: 0.0179\n",
            "Epoch 7/100\n",
            "25/25 [==============================] - ETA: 0s - loss: 0.2568 - n_outputs0_loss: 0.2225 - n_outputs1_loss: 0.0343\n",
            "Epoch 00007: val_loss improved from 0.23777 to 0.18959, saving model to /content/mycar/models/mypilot.h5\n",
            "25/25 [==============================] - 3s 136ms/step - loss: 0.2568 - n_outputs0_loss: 0.2225 - n_outputs1_loss: 0.0343 - val_loss: 0.1896 - val_n_outputs0_loss: 0.1691 - val_n_outputs1_loss: 0.0204\n",
            "Epoch 8/100\n",
            "25/25 [==============================] - ETA: 0s - loss: 0.2239 - n_outputs0_loss: 0.1905 - n_outputs1_loss: 0.0334\n",
            "Epoch 00008: val_loss improved from 0.18959 to 0.17629, saving model to /content/mycar/models/mypilot.h5\n",
            "25/25 [==============================] - 3s 140ms/step - loss: 0.2239 - n_outputs0_loss: 0.1905 - n_outputs1_loss: 0.0334 - val_loss: 0.1763 - val_n_outputs0_loss: 0.1602 - val_n_outputs1_loss: 0.0161\n",
            "Epoch 9/100\n",
            "10/25 [===========>..................] - ETA: 0s - loss: 0.1956 - n_outputs0_loss: 0.1641 - n_outputs1_loss: 0.0315"
          ]
        }
      ]
    },
    {
      "cell_type": "markdown",
      "metadata": {
        "id": "rXzn1noJz5MQ"
      },
      "source": [
        "Check if the model is generated\n",
        "\n"
      ]
    },
    {
      "cell_type": "code",
      "metadata": {
        "id": "5b9vJV4EzlO8"
      },
      "source": [
        "!ls -alh /content/mycar/models"
      ],
      "execution_count": null,
      "outputs": []
    },
    {
      "cell_type": "code",
      "metadata": {
        "id": "AixQrFy_z3vv"
      },
      "source": [
        "%cd /content/mycar/models\n",
        "\n",
        "import glob\n",
        "file = glob.glob(\"*.png\")\n",
        "  \n",
        "from IPython.display import Image\n",
        "Image(file[0])"
      ],
      "execution_count": null,
      "outputs": []
    },
    {
      "cell_type": "markdown",
      "metadata": {
        "id": "6BEOJYH601O0"
      },
      "source": [
        "## Copy the trained model back to Donkey Car (Pi)\n",
        "\n",
        "Once the training is complete on colab, download the model file under /content/mycar/models/ folder location."
      ]
    },
    {
      "cell_type": "code",
      "metadata": {
        "id": "YtvyJpOdocjb"
      },
      "source": [
        "from google.colab import files\n",
        "\n",
        "files.download('./mypilot.h5')"
      ],
      "execution_count": null,
      "outputs": []
    },
    {
      "cell_type": "markdown",
      "metadata": {
        "id": "i7AIY6yBOCM-"
      },
      "source": [
        "Alternatively, you can copy the model back to Google Drive too"
      ]
    },
    {
      "cell_type": "code",
      "metadata": {
        "id": "7Dim4fCpOBo9"
      },
      "source": [
        "!cp /content/mycar/models/mypilot.h5 /content/drive/My\\ Drive/mycar/models/mypilot.h5"
      ],
      "execution_count": null,
      "outputs": []
    },
    {
      "cell_type": "markdown",
      "metadata": {
        "id": "GpkOVzh86omO"
      },
      "source": [
        "### Copy the file from your PC or Mac to the Raspberry Pi using Filezilla or scp command.\n",
        "\n",
        "```\n",
        "sftp pi@raspberry.local\n",
        "cd mycar/models\n",
        "put mypilot.h5\n",
        "```"
      ]
    },
    {
      "cell_type": "markdown",
      "metadata": {
        "id": "hfERkGy821Xy"
      },
      "source": [
        "## Start Autopilot on Pi\n",
        "\n",
        "\n",
        "```bash\n",
        "cd ~/mycar\n",
        "python manage.py drive --model models/mypilot.h5 --js\n",
        "```\n"
      ]
    },
    {
      "cell_type": "markdown",
      "metadata": {
        "id": "X93SodzAv9hV"
      },
      "source": [
        "## Bonus - Salient Object Visualization"
      ]
    },
    {
      "cell_type": "code",
      "metadata": {
        "id": "4AZvWSeiyqto",
        "colab": {
          "base_uri": "https://localhost:8080/"
        },
        "outputId": "7fe371e4-01b9-414e-f4b9-798cd019cf4f"
      },
      "source": [
        "# !pip install git+https://github.com/autorope/keras-vis.git\n",
        "!pip uninstall keras-vis\n",
        "!pip install git+https://github.com/sctse999/keras-vis\n",
        "  \n",
        "  "
      ],
      "execution_count": null,
      "outputs": [
        {
          "output_type": "stream",
          "name": "stdout",
          "text": [
            "Found existing installation: keras-vis 0.4.1\n",
            "Uninstalling keras-vis-0.4.1:\n",
            "  Would remove:\n",
            "    /usr/local/lib/python3.7/dist-packages/docs/*\n",
            "    /usr/local/lib/python3.7/dist-packages/keras_vis-0.4.1.dist-info/*\n",
            "    /usr/local/lib/python3.7/dist-packages/vis/*\n",
            "Proceed (y/n)? y\n",
            "  Successfully uninstalled keras-vis-0.4.1\n",
            "Looking in indexes: https://pypi.org/simple, https://us-python.pkg.dev/colab-wheels/public/simple/\n",
            "Collecting git+https://github.com/sctse999/keras-vis\n",
            "  Cloning https://github.com/sctse999/keras-vis to /tmp/pip-req-build-s_noomjb\n",
            "  Running command git clone -q https://github.com/sctse999/keras-vis /tmp/pip-req-build-s_noomjb\n",
            "Requirement already satisfied: six in /usr/local/lib/python3.7/dist-packages (from keras-vis==0.5.0) (1.15.0)\n",
            "Requirement already satisfied: scikit-image in /usr/local/lib/python3.7/dist-packages (from keras-vis==0.5.0) (0.18.3)\n",
            "Requirement already satisfied: matplotlib in /usr/local/lib/python3.7/dist-packages (from keras-vis==0.5.0) (3.2.2)\n",
            "Requirement already satisfied: h5py in /usr/local/lib/python3.7/dist-packages (from keras-vis==0.5.0) (3.1.0)\n",
            "Requirement already satisfied: numpy>=1.14.5 in /usr/local/lib/python3.7/dist-packages (from h5py->keras-vis==0.5.0) (1.21.6)\n",
            "Requirement already satisfied: cached-property in /usr/local/lib/python3.7/dist-packages (from h5py->keras-vis==0.5.0) (1.5.2)\n",
            "Requirement already satisfied: python-dateutil>=2.1 in /usr/local/lib/python3.7/dist-packages (from matplotlib->keras-vis==0.5.0) (2.8.2)\n",
            "Requirement already satisfied: cycler>=0.10 in /usr/local/lib/python3.7/dist-packages (from matplotlib->keras-vis==0.5.0) (0.11.0)\n",
            "Requirement already satisfied: kiwisolver>=1.0.1 in /usr/local/lib/python3.7/dist-packages (from matplotlib->keras-vis==0.5.0) (1.4.4)\n",
            "Requirement already satisfied: pyparsing!=2.0.4,!=2.1.2,!=2.1.6,>=2.0.1 in /usr/local/lib/python3.7/dist-packages (from matplotlib->keras-vis==0.5.0) (3.0.9)\n",
            "Requirement already satisfied: typing-extensions in /usr/local/lib/python3.7/dist-packages (from kiwisolver>=1.0.1->matplotlib->keras-vis==0.5.0) (4.1.1)\n",
            "Requirement already satisfied: scipy>=1.0.1 in /usr/local/lib/python3.7/dist-packages (from scikit-image->keras-vis==0.5.0) (1.7.3)\n",
            "Requirement already satisfied: imageio>=2.3.0 in /usr/local/lib/python3.7/dist-packages (from scikit-image->keras-vis==0.5.0) (2.9.0)\n",
            "Requirement already satisfied: pillow!=7.1.0,!=7.1.1,>=4.3.0 in /usr/local/lib/python3.7/dist-packages (from scikit-image->keras-vis==0.5.0) (7.1.2)\n",
            "Requirement already satisfied: networkx>=2.0 in /usr/local/lib/python3.7/dist-packages (from scikit-image->keras-vis==0.5.0) (2.6.3)\n",
            "Requirement already satisfied: PyWavelets>=1.1.1 in /usr/local/lib/python3.7/dist-packages (from scikit-image->keras-vis==0.5.0) (1.3.0)\n",
            "Requirement already satisfied: tifffile>=2019.7.26 in /usr/local/lib/python3.7/dist-packages (from scikit-image->keras-vis==0.5.0) (2021.11.2)\n",
            "Building wheels for collected packages: keras-vis\n",
            "  Building wheel for keras-vis (setup.py) ... \u001b[?25l\u001b[?25hdone\n",
            "  Created wheel for keras-vis: filename=keras_vis-0.5.0-py2.py3-none-any.whl size=39002 sha256=5c47b22b3a21d8c2d1b14a6051d2c311e1780e3b7a8498aff19da8473e3922cd\n",
            "  Stored in directory: /tmp/pip-ephem-wheel-cache-r3bxbdmi/wheels/7a/b6/3c/2b5abdaedcd9bd808857637cbef303bac47848674bb98200b4\n",
            "Successfully built keras-vis\n",
            "Installing collected packages: keras-vis\n",
            "Successfully installed keras-vis-0.5.0\n"
          ]
        }
      ]
    },
    {
      "cell_type": "code",
      "source": [
        "!pip install imageio-ffmpeg\n"
      ],
      "metadata": {
        "id": "1nGatrwZiTEt",
        "outputId": "41766116-658b-464d-8864-3dbbc3f6152b",
        "colab": {
          "base_uri": "https://localhost:8080/"
        }
      },
      "execution_count": null,
      "outputs": [
        {
          "output_type": "stream",
          "name": "stdout",
          "text": [
            "Looking in indexes: https://pypi.org/simple, https://us-python.pkg.dev/colab-wheels/public/simple/\n",
            "Collecting imageio-ffmpeg\n",
            "  Downloading imageio_ffmpeg-0.4.7-py3-none-manylinux2010_x86_64.whl (26.9 MB)\n",
            "\u001b[K     |████████████████████████████████| 26.9 MB 1.5 MB/s \n",
            "\u001b[?25hInstalling collected packages: imageio-ffmpeg\n",
            "Successfully installed imageio-ffmpeg-0.4.7\n"
          ]
        }
      ]
    },
    {
      "cell_type": "code",
      "metadata": {
        "id": "kKI37gVrv9Q8",
        "colab": {
          "base_uri": "https://localhost:8080/"
        },
        "outputId": "577f0607-91cd-4a1c-cbff-fd4e1d58588c"
      },
      "source": [
        "%cd /content/mycar\n",
        "!donkey makemovie --tub data/{tub_name} --model models/mypilot.h5 --type linear --salient"
      ],
      "execution_count": null,
      "outputs": [
        {
          "output_type": "stream",
          "name": "stdout",
          "text": [
            "/content/mycar\n",
            "________             ______                   _________              \n",
            "___  __ \\_______________  /___________  __    __  ____/_____ ________\n",
            "__  / / /  __ \\_  __ \\_  //_/  _ \\_  / / /    _  /    _  __ `/_  ___/\n",
            "_  /_/ // /_/ /  / / /  ,<  /  __/  /_/ /     / /___  / /_/ /_  /    \n",
            "/_____/ \\____//_/ /_//_/|_| \\___/_\\__, /      \\____/  \\__,_/ /_/     \n",
            "                                 /____/                              \n",
            "\n",
            "using donkey v4.3.22 ...\n",
            "Traceback (most recent call last):\n",
            "  File \"/usr/local/bin/donkey\", line 33, in <module>\n",
            "    sys.exit(load_entry_point('donkeycar', 'console_scripts', 'donkey')())\n",
            "  File \"/content/donkeycar/donkeycar/management/base.py\", line 616, in execute_from_command_line\n",
            "    c.run(args[2:])\n",
            "  File \"/content/donkeycar/donkeycar/management/base.py\", line 307, in run\n",
            "    from donkeycar.management.makemovie import MakeMovie\n",
            "  File \"/content/donkeycar/donkeycar/management/makemovie.py\", line 1, in <module>\n",
            "    import moviepy.editor as mpy\n",
            "  File \"/usr/local/lib/python3.7/dist-packages/moviepy/editor.py\", line 26, in <module>\n",
            "    imageio.plugins.ffmpeg.download()\n",
            "  File \"/usr/local/lib/python3.7/dist-packages/imageio/plugins/ffmpeg.py\", line 38, in download\n",
            "    \"imageio.ffmpeg.download() has been deprecated. \"\n",
            "RuntimeError: imageio.ffmpeg.download() has been deprecated. Use 'pip install imageio-ffmpeg' instead.'\n"
          ]
        }
      ]
    },
    {
      "cell_type": "code",
      "metadata": {
        "id": "IcUrgOq_pePV"
      },
      "source": [
        "from google.colab import files\n",
        "\n",
        "%cd /content/mycar\n",
        "!ls -ahl\n",
        "files.download('tub_movie.mp4')"
      ],
      "execution_count": null,
      "outputs": []
    }
  ]
}